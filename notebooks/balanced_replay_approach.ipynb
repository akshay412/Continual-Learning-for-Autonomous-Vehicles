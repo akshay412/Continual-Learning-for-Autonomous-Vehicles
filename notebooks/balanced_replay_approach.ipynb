{
 "cells": [
  {
   "cell_type": "markdown",
   "id": "593ec9f9-be5b-4cd4-9ee1-8b20f13c1da5",
   "metadata": {},
   "source": [
    "# Balanced Replay Approach for Continual Learning\n",
    "\n",
    "In this notebook, we implement a balanced replay approach for our autonomous driving setting."
   ]
  },
  {
   "cell_type": "code",
   "execution_count": 1,
   "id": "43db6623-299f-44c0-ac83-976e2552227d",
   "metadata": {},
   "outputs": [],
   "source": [
    "import os\n",
    "import time\n",
    "import random\n",
    "import numpy as np\n",
    "import pandas as pd\n",
    "import matplotlib.pyplot as plt\n",
    "import matplotlib.image as mpimg\n",
    "%matplotlib inline\n",
    "\n",
    "import cv2\n",
    "import ntpath\n",
    "\n",
    "from sklearn.model_selection import train_test_split\n",
    "\n",
    "import torch\n",
    "import torch.nn as nn\n",
    "import torch.optim as optim\n",
    "from torch.utils.data import DataLoader, TensorDataset\n",
    "from torchsummary import summary\n",
    "\n",
    "import warnings\n",
    "warnings.filterwarnings(\"ignore\")"
   ]
  },
  {
   "cell_type": "markdown",
   "id": "07aa668d-fd74-4ce9-8d20-687b7880c16c",
   "metadata": {},
   "source": [
    "## Data Pre-Processing"
   ]
  },
  {
   "cell_type": "code",
   "execution_count": 2,
   "id": "a9cf7ffd-07c6-4df8-8ae5-18f767f15c6e",
   "metadata": {},
   "outputs": [],
   "source": [
    "data_path = 'data'\n",
    "path = os.path.join(data_path,'driving_log.csv')\n",
    "data = pd.read_csv(path)"
   ]
  },
  {
   "cell_type": "code",
   "execution_count": 3,
   "id": "2d7297ba-ec83-470e-9d21-4a355a8cf43c",
   "metadata": {},
   "outputs": [],
   "source": [
    "def path_leaf(path):\n",
    "  head, tail = ntpath.split(path)\n",
    "  return tail\n",
    "\n",
    "data['center'] = data['center'].apply(path_leaf)\n",
    "data['left'] = data['left'].apply(path_leaf)\n",
    "data['right'] = data['right'].apply(path_leaf)"
   ]
  },
  {
   "cell_type": "code",
   "execution_count": 4,
   "id": "360b17b7-fbb8-431c-a043-a94143feb707",
   "metadata": {},
   "outputs": [
    {
     "name": "stdout",
     "output_type": "stream",
     "text": [
      "Total Number of Samples : 8036\n"
     ]
    }
   ],
   "source": [
    "center = data[data.columns[0]].values\n",
    "left = data[data.columns[1]].values\n",
    "right = data[data.columns[2]].values\n",
    "steering = data[data.columns[3]].values\n",
    "\n",
    "no_of_examples = len(steering)\n",
    "print(\"Total Number of Samples :\", no_of_examples)"
   ]
  },
  {
   "cell_type": "code",
   "execution_count": 5,
   "id": "ad283b94-f370-4f7a-ad2d-09342b39f63f",
   "metadata": {},
   "outputs": [],
   "source": [
    "image_path = 'IMG'\n",
    "image_path = os.path.join(data_path, image_path)"
   ]
  },
  {
   "cell_type": "code",
   "execution_count": 6,
   "id": "4a9ee443-60bc-4816-bc95-ca1f2636537e",
   "metadata": {},
   "outputs": [],
   "source": [
    "def random_flip(image, steering_angle):\n",
    "    image = cv2.flip(image, 1)\n",
    "    steering_angle = -steering_angle\n",
    "    return image, steering_angle"
   ]
  },
  {
   "cell_type": "code",
   "execution_count": 7,
   "id": "7c7d539e-3a30-45fc-a3f6-b3994c3e88d5",
   "metadata": {},
   "outputs": [
    {
     "name": "stdout",
     "output_type": "stream",
     "text": [
      "x shape : (48216, 100, 100, 1)\n",
      "y shape : (48216, 1)\n"
     ]
    }
   ],
   "source": [
    "x = []\n",
    "y = []\n",
    "\n",
    "steer_adjust_factor = 0.2\n",
    "IMAGE_HEIGHT = 100 \n",
    "IMAGE_WIDTH = 100\n",
    "\n",
    "for i in range(no_of_examples):\n",
    "    for choice in range(3):\n",
    "        if choice == 0: # Center Image\n",
    "            img = cv2.imread(os.path.join(image_path, center[i]))\n",
    "            steering_angle = steering[i]\n",
    "        elif choice == 1: # Left Image\n",
    "            img = cv2.imread(os.path.join(image_path, left[i]))\n",
    "            steering_angle = steering[i] + steer_adjust_factor\n",
    "        elif choice == 2: # Right Image\n",
    "            img = cv2.imread(os.path.join(image_path, right[i]))\n",
    "            steering_angle = steering[i] - steer_adjust_factor\n",
    "        \n",
    "        img = cv2.cvtColor(img, cv2.COLOR_RGB2HSV)[:,:,1]\n",
    "        img = img[50:,:]\n",
    "        img = cv2.resize(img, (IMAGE_WIDTH, IMAGE_HEIGHT))\n",
    "        \n",
    "        x.append(img)\n",
    "        y.append(steering_angle)\n",
    "        \n",
    "        flipped_img, flipped_steering_angle = random_flip(img, steering_angle)\n",
    "                \n",
    "        x.append(flipped_img)\n",
    "        y.append(flipped_steering_angle)\n",
    "\n",
    "x = np.array(x)\n",
    "x = np.reshape(x, [x.shape[0], x.shape[1], x.shape[2], 1])\n",
    "\n",
    "y = np.array(y)\n",
    "y = np.reshape(y, [y.shape[0],1])\n",
    "\n",
    "print(\"x shape :\", x.shape)\n",
    "print(\"y shape :\", y.shape)"
   ]
  },
  {
   "cell_type": "code",
   "execution_count": 8,
   "id": "2cd8fb41-8882-47ba-9cae-8bb4243583f9",
   "metadata": {},
   "outputs": [
    {
     "name": "stdout",
     "output_type": "stream",
     "text": [
      "x_train size : 38572\n",
      "x_test size : 9644\n"
     ]
    }
   ],
   "source": [
    "x_train, x_test, y_train, y_test = train_test_split(x, y, test_size=0.2, random_state=42)\n",
    "\n",
    "x_train_size = x_train.shape[0]\n",
    "x_test_size = x_test.shape[0]\n",
    "\n",
    "print(\"x_train size :\", x_train_size)\n",
    "print(\"x_test size :\", x_test_size)"
   ]
  },
  {
   "cell_type": "code",
   "execution_count": 9,
   "id": "b71f5c47-ee8f-4d04-8ba6-774d40ad0a0f",
   "metadata": {},
   "outputs": [],
   "source": [
    "def get_default_device():\n",
    "  # Pick GPU, if available, else CPU\n",
    "  if torch.cuda.is_available():\n",
    "    return torch.device('cuda')\n",
    "  else:\n",
    "    return torch.device('cpu')\n",
    "\n",
    "def to_device(data, device):\n",
    "  # Move tensors to chosen device\n",
    "  if isinstance(data, (list, tuple)):\n",
    "    # If the instance is a list/tuple, transfer each element to chosen device\n",
    "    return [to_device(x, device) for x in data]\n",
    "  return data.to(device, non_blocking=True)\n",
    "  # non_blocking=True doesn't block the execution of the host device until transfers complete\n",
    "\n",
    "class DeviceDataLoader():\n",
    "  # Wrap a dataloader to move data to a device\n",
    "  def __init__(self, dl, device):\n",
    "    self.dl = dl\n",
    "    self.device = device\n",
    "    self.dataset = dl.dataset\n",
    "\n",
    "  def __iter__(self):\n",
    "    # Yield a batch of data after moving it to device\n",
    "    for b in self.dl:\n",
    "      yield to_device(b, self.device)\n",
    "\n",
    "  def __len__(self):\n",
    "    # Number of batches\n",
    "    return len(self.dl)"
   ]
  },
  {
   "cell_type": "code",
   "execution_count": 10,
   "id": "807b6f40-f0fb-4eee-8240-f62c5d08893a",
   "metadata": {},
   "outputs": [
    {
     "data": {
      "text/plain": [
       "device(type='cuda')"
      ]
     },
     "execution_count": 10,
     "metadata": {},
     "output_type": "execute_result"
    }
   ],
   "source": [
    "# Get the default device\n",
    "device = get_default_device()\n",
    "device"
   ]
  },
  {
   "cell_type": "markdown",
   "id": "9dbca04e-973b-4f18-af9d-576faebdb6fa",
   "metadata": {},
   "source": [
    "We split the dataset into different driving contexts"
   ]
  },
  {
   "cell_type": "code",
   "execution_count": 11,
   "id": "a5057b05-a554-4811-9fad-327fd2c98074",
   "metadata": {},
   "outputs": [],
   "source": [
    "# Driving Straight Context on Train Dataset\n",
    "train_straight_idxs = ((y_train <= 0.2) & (y_train >= -0.2)).nonzero()[0].squeeze()\n",
    "\n",
    "# Driving on Left Curves Context on Train Dataset\n",
    "train_left_idxs = ((y_train < -0.2) & (y_train >= -0.5)).nonzero()[0].squeeze()\n",
    "\n",
    "# Driving on Right Curves Context on Train Dataset\n",
    "train_right_idxs = ((y_train > 0.2 )& (y_train <= 0.5)).nonzero()[0].squeeze()\n",
    "\n",
    "# Driving on Left Turns Context on Train Dataset\n",
    "train_sharp_left_idxs = (y_train < -0.5).nonzero()[0].squeeze()\n",
    "\n",
    "# Driving on Right Turns Context on Train Dataset\n",
    "train_sharp_right_idxs = (y_train > 0.5).nonzero()[0].squeeze()"
   ]
  },
  {
   "cell_type": "code",
   "execution_count": 12,
   "id": "17348f65-0a18-433d-bf98-f805b3331b1d",
   "metadata": {},
   "outputs": [],
   "source": [
    "# Driving Straight Context on Test Dataset\n",
    "test_straight_idxs = ((y_test <= 0.2) & (y_test >= -0.2)).nonzero()[0].squeeze()\n",
    "\n",
    "# Driving on Left Curves Context on Test Dataset\n",
    "test_left_idxs = ((y_test < -0.2) & (y_test >= -0.5)).nonzero()[0].squeeze()\n",
    "\n",
    "# Driving on Right Curves Context on Test Dataset\n",
    "test_right_idxs = ((y_test > 0.2 )& (y_test <= 0.5)).nonzero()[0].squeeze()\n",
    "\n",
    "# Driving on Left Turns Context on Test Dataset\n",
    "test_sharp_left_idxs = (y_test < -0.5).nonzero()[0].squeeze()\n",
    "\n",
    "# Driving on Right Turns Context on Test Dataset\n",
    "test_sharp_right_idxs = (y_test > 0.5).nonzero()[0].squeeze()"
   ]
  },
  {
   "cell_type": "code",
   "execution_count": 13,
   "id": "0b28ee2e-0e8d-43be-be6b-c0d2edbbf766",
   "metadata": {},
   "outputs": [],
   "source": [
    "train_contexts = [train_straight_idxs, train_left_idxs, train_right_idxs, train_sharp_left_idxs, train_sharp_right_idxs]\n",
    "test_contexts = [test_straight_idxs, test_left_idxs, test_right_idxs, test_sharp_left_idxs, test_sharp_right_idxs]"
   ]
  },
  {
   "cell_type": "code",
   "execution_count": 14,
   "id": "1f323fa2-b832-48c1-8998-32792d1f1ed0",
   "metadata": {},
   "outputs": [],
   "source": [
    "x_train_tensor = torch.Tensor(x_train).permute(0, 3, 1, 2)  # Change channels last to channels first\n",
    "y_train_tensor = torch.Tensor(y_train)\n",
    "\n",
    "x_test_tensor = torch.Tensor(x_test).permute(0, 3, 1, 2)  # Change channels last to channels first\n",
    "y_test_tensor = torch.Tensor(y_test)"
   ]
  },
  {
   "cell_type": "markdown",
   "id": "e435b743-5773-4ba9-a017-e878456e6681",
   "metadata": {},
   "source": [
    "## Model"
   ]
  },
  {
   "cell_type": "code",
   "execution_count": 15,
   "id": "b5c10ffa-f200-4d4f-9524-6d8d3a04eab7",
   "metadata": {},
   "outputs": [],
   "source": [
    "class CNNModel(nn.Module):\n",
    "    def __init__(self, height, width):\n",
    "        super(CNNModel, self).__init__()\n",
    "        \n",
    "        self.height = height\n",
    "        self.width = width\n",
    "        \n",
    "        # Input normalization\n",
    "        self.norm = nn.BatchNorm2d(1)\n",
    "        \n",
    "        # Convolutional layers\n",
    "        self.conv1 = nn.Conv2d(1, 32, kernel_size=3, stride=1, padding=1)\n",
    "        self.conv2 = nn.Conv2d(32, 32, kernel_size=3, stride=1, padding=1)\n",
    "        self.conv3 = nn.Conv2d(32, 64, kernel_size=3, stride=1, padding=1)\n",
    "        self.conv4 = nn.Conv2d(64, 64, kernel_size=3, stride=1, padding=1)        \n",
    "        self.conv5 = nn.Conv2d(64, 128, kernel_size=3, stride=1, padding=1)\n",
    "        self.conv6 = nn.Conv2d(128, 128, kernel_size=3, stride=1, padding=1)\n",
    "        \n",
    "        # Pooling layer\n",
    "        self.pool = nn.MaxPool2d(2, 2)\n",
    "        \n",
    "        # Fully connected layers\n",
    "        self.fc1 = nn.Linear(128 * (height // 16) * (width // 16), 512)\n",
    "        self.fc2 = nn.Linear(512, 256)\n",
    "        self.fc3 = nn.Linear(256, 64)\n",
    "        self.fc4 = nn.Linear(64, 1)\n",
    "        \n",
    "        # Dropout and Batch normalization\n",
    "        self.dropout = nn.Dropout(0.5)\n",
    "        self.batchnorm1 = nn.BatchNorm1d(512)\n",
    "        self.batchnorm2 = nn.BatchNorm1d(256)\n",
    "        self.batchnorm3 = nn.BatchNorm1d(64)\n",
    "        \n",
    "    def forward(self, x):\n",
    "        x = self.norm(x)\n",
    "        x = self.conv1(x)\n",
    "        x = nn.ReLU()(x)\n",
    "        x = self.conv2(x)\n",
    "        x = nn.ReLU()(x)\n",
    "        x = self.pool(x)\n",
    "        x = self.conv3(x)\n",
    "        x = nn.ReLU()(x)\n",
    "        x = self.conv4(x)\n",
    "        x = nn.ReLU()(x)\n",
    "        x = self.pool(x)\n",
    "        x = self.conv5(x)\n",
    "        x = nn.ReLU()(x)\n",
    "        x = self.pool(x)\n",
    "        x = self.conv6(x)\n",
    "        x = nn.ReLU()(x)\n",
    "        x = self.pool(x)\n",
    "        x = x.view(x.size(0), -1)\n",
    "        x = self.dropout(x)\n",
    "        x = self.batchnorm1(self.fc1(x))\n",
    "        x = self.batchnorm2(self.fc2(x))\n",
    "        x = self.batchnorm3(self.fc3(x))\n",
    "        x = self.fc4(x)\n",
    "        return x"
   ]
  },
  {
   "cell_type": "code",
   "execution_count": 16,
   "id": "25978a7d-deaa-48fd-8da5-32d3af5b589d",
   "metadata": {},
   "outputs": [],
   "source": [
    "model = CNNModel(IMAGE_HEIGHT, IMAGE_WIDTH)"
   ]
  },
  {
   "cell_type": "code",
   "execution_count": 17,
   "id": "7a5709d8-6a93-4a38-9803-0cb68c8ddf15",
   "metadata": {},
   "outputs": [],
   "source": [
    "model =  model.to(device)\n",
    "if device == 'cuda':\n",
    "  model = torch.nn.DataParallel(model)\n",
    "  cudnn.benchmark = True"
   ]
  },
  {
   "cell_type": "code",
   "execution_count": 18,
   "id": "ab1b2694-cd2e-4567-9f16-6ed0934351f8",
   "metadata": {},
   "outputs": [
    {
     "name": "stdout",
     "output_type": "stream",
     "text": [
      "=================================================================\n",
      "Layer (type:depth-idx)                   Param #\n",
      "=================================================================\n",
      "├─BatchNorm2d: 1-1                       2\n",
      "├─Conv2d: 1-2                            320\n",
      "├─Conv2d: 1-3                            9,248\n",
      "├─Conv2d: 1-4                            18,496\n",
      "├─Conv2d: 1-5                            36,928\n",
      "├─Conv2d: 1-6                            73,856\n",
      "├─Conv2d: 1-7                            147,584\n",
      "├─MaxPool2d: 1-8                         --\n",
      "├─Linear: 1-9                            2,359,808\n",
      "├─Linear: 1-10                           131,328\n",
      "├─Linear: 1-11                           16,448\n",
      "├─Linear: 1-12                           65\n",
      "├─Dropout: 1-13                          --\n",
      "├─BatchNorm1d: 1-14                      1,024\n",
      "├─BatchNorm1d: 1-15                      512\n",
      "├─BatchNorm1d: 1-16                      128\n",
      "=================================================================\n",
      "Total params: 2,795,747\n",
      "Trainable params: 2,795,747\n",
      "Non-trainable params: 0\n",
      "=================================================================\n",
      "=================================================================\n",
      "Layer (type:depth-idx)                   Param #\n",
      "=================================================================\n",
      "├─BatchNorm2d: 1-1                       2\n",
      "├─Conv2d: 1-2                            320\n",
      "├─Conv2d: 1-3                            9,248\n",
      "├─Conv2d: 1-4                            18,496\n",
      "├─Conv2d: 1-5                            36,928\n",
      "├─Conv2d: 1-6                            73,856\n",
      "├─Conv2d: 1-7                            147,584\n",
      "├─MaxPool2d: 1-8                         --\n",
      "├─Linear: 1-9                            2,359,808\n",
      "├─Linear: 1-10                           131,328\n",
      "├─Linear: 1-11                           16,448\n",
      "├─Linear: 1-12                           65\n",
      "├─Dropout: 1-13                          --\n",
      "├─BatchNorm1d: 1-14                      1,024\n",
      "├─BatchNorm1d: 1-15                      512\n",
      "├─BatchNorm1d: 1-16                      128\n",
      "=================================================================\n",
      "Total params: 2,795,747\n",
      "Trainable params: 2,795,747\n",
      "Non-trainable params: 0\n",
      "=================================================================\n"
     ]
    }
   ],
   "source": [
    "print(summary(model, input_size=(1, IMAGE_HEIGHT, IMAGE_WIDTH)))"
   ]
  },
  {
   "cell_type": "code",
   "execution_count": 19,
   "id": "0679625a-e436-4f4e-8291-685ab7ca6ba8",
   "metadata": {},
   "outputs": [],
   "source": [
    "epochs = 10\n",
    "lr = 0.001\n",
    "\n",
    "criterion = nn.MSELoss()\n",
    "optimizer = optim.Adam(model.parameters(), lr=lr)"
   ]
  },
  {
   "cell_type": "markdown",
   "id": "d82cb9d1-46d4-45b0-bb88-a27af8da29ab",
   "metadata": {},
   "source": [
    "## Model Training"
   ]
  },
  {
   "cell_type": "code",
   "execution_count": 20,
   "id": "0804fd7b-8c31-43d2-a68c-09e9d81ac8b0",
   "metadata": {},
   "outputs": [],
   "source": [
    "# Training Helper Function to Format Time\n",
    "def format_time(seconds):\n",
    "  days = int(seconds / 3600/24)\n",
    "  seconds = seconds - days*3600*24\n",
    "  hours = int(seconds / 3600)\n",
    "  seconds = seconds - hours*3600\n",
    "  minutes = int(seconds / 60)\n",
    "  seconds = seconds - minutes*60\n",
    "  secondsf = int(seconds)\n",
    "  seconds = seconds - secondsf\n",
    "  millis = int(seconds*1000)\n",
    "\n",
    "  f = ''\n",
    "  i = 1\n",
    "  if days > 0:\n",
    "    f += str(days) + 'D'\n",
    "    i += 1\n",
    "  if hours > 0 and i <= 2:\n",
    "    f += str(hours) + 'h'\n",
    "    i += 1\n",
    "  if minutes > 0 and i <= 2:\n",
    "    f += str(minutes) + 'm'\n",
    "    i += 1\n",
    "  if secondsf > 0 and i <= 2:\n",
    "    f += str(secondsf) + 's'\n",
    "    i += 1\n",
    "  if millis > 0 and i <= 2:\n",
    "    f += str(millis) + 'ms'\n",
    "    i += 1\n",
    "  if f == '':\n",
    "    f = '0ms'\n",
    "  return f"
   ]
  },
  {
   "cell_type": "code",
   "execution_count": 21,
   "id": "47bc7af2-e69b-4e98-b808-8c0b206136b3",
   "metadata": {},
   "outputs": [],
   "source": [
    "# Number of past experiences to replay per context\n",
    "replay_size_per_context = 100  # Adjust this value based on memory constraints"
   ]
  },
  {
   "cell_type": "code",
   "execution_count": 22,
   "id": "8f26e5ba-936d-47fa-b925-d313493d77eb",
   "metadata": {},
   "outputs": [],
   "source": [
    "# Initialize replay buffer\n",
    "replay_buffers = {context_idx: [] for context_idx in range(len(train_contexts))}"
   ]
  },
  {
   "cell_type": "code",
   "execution_count": 23,
   "id": "a32546ae-b543-49c7-b4bf-891c8175dc1e",
   "metadata": {},
   "outputs": [],
   "source": [
    "# Function to add experiences to replay buffer\n",
    "def add_to_replay_buffer(context_idx, inputs, labels):\n",
    "    replay_buffers[context_idx].extend(list(zip(inputs.cpu().numpy(), labels.cpu().numpy())))\n",
    "    if len(replay_buffers[context_idx]) > replay_size_per_context:\n",
    "        replay_buffers[context_idx] = replay_buffers[context_idx][-replay_size_per_context:]"
   ]
  },
  {
   "cell_type": "code",
   "execution_count": 24,
   "id": "a17c25e9-62f5-4554-9243-8b947d9cbd8f",
   "metadata": {},
   "outputs": [
    {
     "name": "stdout",
     "output_type": "stream",
     "text": [
      "Training for Context 1\n",
      "Epoch [1/10] | Train Loss: 0.0344\n",
      "Time Taken : 37s908ms\n",
      "\n",
      "Epoch [2/10] | Train Loss: 0.0107\n",
      "Time Taken : 36s925ms\n",
      "\n",
      "Epoch [3/10] | Train Loss: 0.0097\n",
      "Time Taken : 34s579ms\n",
      "\n",
      "Epoch [4/10] | Train Loss: 0.0092\n",
      "Time Taken : 38s56ms\n",
      "\n",
      "Epoch [5/10] | Train Loss: 0.0089\n",
      "Time Taken : 37s996ms\n",
      "\n",
      "Epoch [6/10] | Train Loss: 0.0085\n",
      "Time Taken : 36s789ms\n",
      "\n",
      "Epoch [7/10] | Train Loss: 0.0084\n",
      "Time Taken : 37s378ms\n",
      "\n",
      "Epoch [8/10] | Train Loss: 0.0080\n",
      "Time Taken : 36s902ms\n",
      "\n",
      "Epoch [9/10] | Train Loss: 0.0080\n",
      "Time Taken : 36s493ms\n",
      "\n",
      "Epoch [10/10] | Train Loss: 0.0078\n",
      "Time Taken : 37s292ms\n",
      "\n",
      "---\n",
      "\n",
      "Training for Context 2\n",
      "Epoch [1/10] | Train Loss: 0.0437\n",
      "Time Taken : 6s64ms\n",
      "\n",
      "Epoch [2/10] | Train Loss: 0.0185\n",
      "Time Taken : 6s88ms\n",
      "\n",
      "Epoch [3/10] | Train Loss: 0.0150\n",
      "Time Taken : 6s150ms\n",
      "\n",
      "Epoch [4/10] | Train Loss: 0.0120\n",
      "Time Taken : 6s37ms\n",
      "\n",
      "Epoch [5/10] | Train Loss: 0.0103\n",
      "Time Taken : 6s270ms\n",
      "\n",
      "Epoch [6/10] | Train Loss: 0.0095\n",
      "Time Taken : 6s309ms\n",
      "\n",
      "Epoch [7/10] | Train Loss: 0.0076\n",
      "Time Taken : 6s237ms\n",
      "\n",
      "Epoch [8/10] | Train Loss: 0.0067\n",
      "Time Taken : 6s112ms\n",
      "\n",
      "Epoch [9/10] | Train Loss: 0.0060\n",
      "Time Taken : 6s111ms\n",
      "\n",
      "Epoch [10/10] | Train Loss: 0.0054\n",
      "Time Taken : 6s140ms\n",
      "\n",
      "---\n",
      "\n",
      "Training for Context 3\n",
      "Epoch [1/10] | Train Loss: 0.1051\n",
      "Time Taken : 8s13ms\n",
      "\n",
      "Epoch [2/10] | Train Loss: 0.0238\n",
      "Time Taken : 8s115ms\n",
      "\n",
      "Epoch [3/10] | Train Loss: 0.0165\n",
      "Time Taken : 8s65ms\n",
      "\n",
      "Epoch [4/10] | Train Loss: 0.0136\n",
      "Time Taken : 8s130ms\n",
      "\n",
      "Epoch [5/10] | Train Loss: 0.0108\n",
      "Time Taken : 8s184ms\n",
      "\n",
      "Epoch [6/10] | Train Loss: 0.0088\n",
      "Time Taken : 8s116ms\n",
      "\n",
      "Epoch [7/10] | Train Loss: 0.0077\n",
      "Time Taken : 8s140ms\n",
      "\n",
      "Epoch [8/10] | Train Loss: 0.0066\n",
      "Time Taken : 8s111ms\n",
      "\n",
      "Epoch [9/10] | Train Loss: 0.0055\n",
      "Time Taken : 8s148ms\n",
      "\n",
      "Epoch [10/10] | Train Loss: 0.0046\n",
      "Time Taken : 8s116ms\n",
      "\n",
      "---\n",
      "\n",
      "Training for Context 4\n",
      "Epoch [1/10] | Train Loss: 0.7005\n",
      "Time Taken : 1s273ms\n",
      "\n",
      "Epoch [2/10] | Train Loss: 0.4805\n",
      "Time Taken : 1s411ms\n",
      "\n",
      "Epoch [3/10] | Train Loss: 0.2660\n",
      "Time Taken : 1s406ms\n",
      "\n",
      "Epoch [4/10] | Train Loss: 0.1269\n",
      "Time Taken : 1s434ms\n",
      "\n",
      "Epoch [5/10] | Train Loss: 0.0534\n",
      "Time Taken : 1s432ms\n",
      "\n",
      "Epoch [6/10] | Train Loss: 0.0408\n",
      "Time Taken : 1s414ms\n",
      "\n",
      "Epoch [7/10] | Train Loss: 0.0355\n",
      "Time Taken : 1s425ms\n",
      "\n",
      "Epoch [8/10] | Train Loss: 0.0239\n",
      "Time Taken : 1s423ms\n",
      "\n",
      "Epoch [9/10] | Train Loss: 0.0189\n",
      "Time Taken : 1s406ms\n",
      "\n",
      "Epoch [10/10] | Train Loss: 0.0146\n",
      "Time Taken : 1s447ms\n",
      "\n",
      "---\n",
      "\n",
      "Training for Context 5\n",
      "Epoch [1/10] | Train Loss: 0.8701\n",
      "Time Taken : 1s564ms\n",
      "\n",
      "Epoch [2/10] | Train Loss: 0.5056\n",
      "Time Taken : 1s640ms\n",
      "\n",
      "Epoch [3/10] | Train Loss: 0.2626\n",
      "Time Taken : 1s632ms\n",
      "\n",
      "Epoch [4/10] | Train Loss: 0.1311\n",
      "Time Taken : 1s707ms\n",
      "\n",
      "Epoch [5/10] | Train Loss: 0.0683\n",
      "Time Taken : 1s673ms\n",
      "\n",
      "Epoch [6/10] | Train Loss: 0.0384\n",
      "Time Taken : 1s640ms\n",
      "\n",
      "Epoch [7/10] | Train Loss: 0.0248\n",
      "Time Taken : 1s641ms\n",
      "\n",
      "Epoch [8/10] | Train Loss: 0.0200\n",
      "Time Taken : 1s660ms\n",
      "\n",
      "Epoch [9/10] | Train Loss: 0.0180\n",
      "Time Taken : 1s608ms\n",
      "\n",
      "Epoch [10/10] | Train Loss: 0.0169\n",
      "Time Taken : 1s620ms\n",
      "\n",
      "---\n",
      "\n"
     ]
    }
   ],
   "source": [
    "# Train the model for each context\n",
    "train_losses_per_context = []\n",
    "\n",
    "for context_idx, idxs in enumerate(train_contexts):\n",
    "    print(f\"Training for Context {context_idx + 1}\")\n",
    "    \n",
    "    # Create a dataset and dataloader for the current context\n",
    "    x_train_context = x_train_tensor[idxs]\n",
    "    y_train_context = y_train_tensor[idxs]\n",
    "    \n",
    "    context_dataset = TensorDataset(x_train_context, y_train_context)\n",
    "    \n",
    "    context_loader = DataLoader(context_dataset, batch_size=64, shuffle=True, num_workers=3, pin_memory=True)\n",
    "    context_loader = DeviceDataLoader(context_loader, device)\n",
    "\n",
    "    train_losses = []\n",
    "    \n",
    "    # Train the model\n",
    "    for epoch in range(epochs):\n",
    "        start_time = time.time()\n",
    "\n",
    "        train_running_loss = 0.0\n",
    "        \n",
    "        model.train()\n",
    "        \n",
    "        for inputs, labels in context_loader:\n",
    "            optimizer.zero_grad()\n",
    "            \n",
    "            # Experience Replay\n",
    "            if len(replay_buffers[context_idx]) > 0:\n",
    "                # Sample equally from all contexts\n",
    "                replay_samples_per_context = replay_size_per_context // len(train_contexts)\n",
    "                replay_samples = []\n",
    "                \n",
    "                for i in range(len(train_contexts)):\n",
    "                    context_samples = replay_buffers[i]\n",
    "                    selected_samples = random.sample(context_samples, min(len(context_samples), len(inputs)))\n",
    "                    replay_samples.extend(selected_samples)\n",
    "                \n",
    "                replay_inputs, replay_labels = map(np.array, zip(*replay_samples))\n",
    "                \n",
    "                replay_inputs = torch.tensor(replay_inputs, device=device, dtype=torch.float32)\n",
    "                replay_labels = torch.tensor(replay_labels, device=device, dtype=torch.float32)\n",
    "                \n",
    "                inputs_final = torch.cat([inputs, replay_inputs], dim=0)\n",
    "                labels_final = torch.cat([labels, replay_labels], dim=0)\n",
    "            else:\n",
    "                inputs_final = inputs.clone().detach()\n",
    "                labels_final = labels.clone().detach()\n",
    "            \n",
    "            outputs = model(inputs_final)\n",
    "            loss = criterion(outputs, labels_final)\n",
    "            loss.backward()\n",
    "            optimizer.step()\n",
    "            train_running_loss += loss.item() * inputs_final.size(0)\n",
    "            \n",
    "            # Add current batch to replay buffer\n",
    "            add_to_replay_buffer(context_idx, inputs, labels)\n",
    "        \n",
    "        train_epoch_loss = train_running_loss / len(context_loader.dataset)\n",
    "        train_losses.append(train_epoch_loss)\n",
    "\n",
    "        cur_time = time.time()\n",
    "        epoch_time = cur_time - start_time\n",
    "        \n",
    "        print(f'Epoch [{epoch+1}/{epochs}] | Train Loss: {train_epoch_loss:.4f}')\n",
    "        print(f'Time Taken : {format_time(epoch_time)}')\n",
    "        print('')\n",
    "\n",
    "    train_losses_per_context.append(train_losses)\n",
    "    print('---')\n",
    "    print('')"
   ]
  },
  {
   "cell_type": "markdown",
   "id": "5bb0b514-7bec-46c6-b243-0192e0d7ff59",
   "metadata": {},
   "source": [
    "## Model Evaluation"
   ]
  },
  {
   "cell_type": "code",
   "execution_count": 26,
   "id": "3400ec7b-95e7-41a0-b420-26d7c0dd038c",
   "metadata": {},
   "outputs": [
    {
     "name": "stdout",
     "output_type": "stream",
     "text": [
      "Evaluating on Test Dataset for Context 1\n",
      "Test Loss for Context 1 : 0.0334\n",
      "\n",
      "Evaluating on Test Dataset for Context 2\n",
      "Test Loss for Context 2 : 0.0294\n",
      "\n",
      "Evaluating on Test Dataset for Context 3\n",
      "Test Loss for Context 3 : 0.0287\n",
      "\n",
      "Evaluating on Test Dataset for Context 4\n",
      "Test Loss for Context 4 : 0.0291\n",
      "\n",
      "Evaluating on Test Dataset for Context 5\n",
      "Test Loss for Context 5 : 0.0342\n",
      "\n",
      "Overall Test Loss: 0.0310\n"
     ]
    }
   ],
   "source": [
    "# Evaluate the final trained model on the test subsets for each context\n",
    "test_losses_per_context = []\n",
    "\n",
    "for context_idx, idxs_test in enumerate(test_contexts):\n",
    "    print(f\"Evaluating on Test Dataset for Context {context_idx + 1}\")\n",
    "    \n",
    "    # Create a dataset and dataloader for the current context\n",
    "    x_test_context = x_test_tensor[idxs_test]\n",
    "    y_test_context = y_test_tensor[idxs_test]\n",
    "    \n",
    "    context_test_dataset = TensorDataset(x_test_context, y_test_context)\n",
    "    context_test_loader = DataLoader(context_test_dataset, batch_size=64, num_workers=3, pin_memory=True)\n",
    "    context_test_loader = DeviceDataLoader(context_test_loader, device)\n",
    "    \n",
    "    model.eval()\n",
    "    \n",
    "    test_running_loss = 0.0\n",
    "    \n",
    "    with torch.no_grad():\n",
    "        for inputs, labels in context_test_loader:\n",
    "            outputs = model(inputs)\n",
    "            loss = criterion(outputs, labels)\n",
    "            test_running_loss += loss.item() * inputs.size(0)\n",
    "    \n",
    "    test_epoch_loss = test_running_loss / len(context_test_loader.dataset)\n",
    "    test_losses_per_context.append(test_epoch_loss)\n",
    "    \n",
    "    print(f\"Test Loss for Context {context_idx + 1} : {test_epoch_loss:.4f}\")\n",
    "    print('')\n",
    "\n",
    "# Calculating Overall Test Loss\n",
    "overall_test_loss = sum(test_losses_per_context) / len(test_losses_per_context)\n",
    "print(f\"Overall Test Loss: {overall_test_loss:.4f}\")"
   ]
  },
  {
   "cell_type": "code",
   "execution_count": 27,
   "id": "d09661a4-d901-4dc1-a28d-a8384abeba93",
   "metadata": {},
   "outputs": [
    {
     "data": {
      "text/plain": [
       "Text(0.5, 1.0, 'Loss vs. No. of Iterations')"
      ]
     },
     "execution_count": 27,
     "metadata": {},
     "output_type": "execute_result"
    },
    {
     "data": {
      "image/png": "[encoded data removed]",
      "text/plain": [
       "<Figure size 640x480 with 1 Axes>"
      ]
     },
     "metadata": {},
     "output_type": "display_data"
    }
   ],
   "source": [
    "train_losses_flatten = [j for sub in train_losses_per_context for j in sub]\n",
    "\n",
    "plt.plot(train_losses_flatten, label='Train Losses')\n",
    "for i in range(1, len(train_contexts) + 1):\n",
    "    plt.axvline(x=epochs*(i-1), color='r', label=f'Context {i}')\n",
    "plt.xlabel('Iterations')\n",
    "plt.ylabel('Loss')\n",
    "plt.legend()\n",
    "plt.grid(True)\n",
    "plt.title('Loss vs. No. of Iterations')"
   ]
  },
  {
   "cell_type": "code",
   "execution_count": 28,
   "id": "a3d6fd11-0e49-481f-9eef-a7ea01905308",
   "metadata": {},
   "outputs": [
    {
     "name": "stderr",
     "output_type": "stream",
     "text": [
      "No artists with labels found to put in legend.  Note that artists whose label start with an underscore are ignored when legend() is called with no argument.\n"
     ]
    },
    {
     "data": {
      "text/plain": [
       "Text(0.5, 1.0, 'Test Loss vs. Contexts')"
      ]
     },
     "execution_count": 28,
     "metadata": {},
     "output_type": "execute_result"
    },
    {
     "data": {
      "image/png": "[encoded data removed]",
      "text/plain": [
       "<Figure size 1000x500 with 1 Axes>"
      ]
     },
     "metadata": {},
     "output_type": "display_data"
    }
   ],
   "source": [
    "context_list = [f'Context {i+1}' for i in range(len(test_contexts))]\n",
    "\n",
    "fig = plt.figure(figsize = (10, 5))\n",
    "plt.bar(context_list, test_losses_per_context, color ='maroon', \n",
    "        width = 0.4)\n",
    "plt.xlabel(\"Context\")\n",
    "plt.ylabel(\"Test Loss\")\n",
    "plt.legend()\n",
    "plt.grid(True)\n",
    "plt.title(\"Test Loss vs. Contexts\")"
   ]
  },
  {
   "cell_type": "code",
   "execution_count": 29,
   "id": "8d9a02bc-ef04-4f51-a2da-8f01a27252ed",
   "metadata": {},
   "outputs": [],
   "source": [
    "# Saving model state\n",
    "state = {\n",
    "        'model': model.state_dict(),\n",
    "        'train_losses_per_context': train_losses_per_context,\n",
    "        'test_losses_per_context': test_losses_per_context,\n",
    "        'epochs': epochs,\n",
    "        'lr': lr,\n",
    "    }\n",
    "\n",
    "torch.save(state, 'balanced_replay_approach.pth')"
   ]
  },
  {
   "cell_type": "code",
   "execution_count": null,
   "id": "5c636e5b-baeb-41a6-831e-c6580d75debf",
   "metadata": {},
   "outputs": [],
   "source": []
  }
 ],
 "metadata": {
  "kernelspec": {
   "display_name": "Python 3 (ipykernel)",
   "language": "python",
   "name": "python3"
  },
  "language_info": {
   "codemirror_mode": {
    "name": "ipython",
    "version": 3
   },
   "file_extension": ".py",
   "mimetype": "text/x-python",
   "name": "python",
   "nbconvert_exporter": "python",
   "pygments_lexer": "ipython3",
   "version": "3.11.7"
  }
 },
 "nbformat": 4,
 "nbformat_minor": 5
}
