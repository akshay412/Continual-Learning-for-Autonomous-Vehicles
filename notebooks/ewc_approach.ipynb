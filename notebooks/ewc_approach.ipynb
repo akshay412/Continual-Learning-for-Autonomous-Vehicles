{
 "cells": [
  {
   "cell_type": "markdown",
   "id": "f91d7188-22dc-4a68-aeaa-ca9787867f1e",
   "metadata": {},
   "source": [
    "# Elastic Weight Consolidation (EWC) Approach for Training\n",
    "\n",
    "In this notebook, we explore EWC Approach for training our model for steering angle prediction.\n",
    "\n",
    "We divide the dataset into different contexts - driving straight, driving on left curves, driving on right curves, driving on left turns, and driving on right turns.\n",
    "\n",
    "We train the model on each of these contexts one by one, and then finally evaluate on each contexts."
   ]
  },
  {
   "cell_type": "code",
   "execution_count": 1,
   "id": "bbea3234-89ce-41ed-b481-c12ceda0eb0d",
   "metadata": {},
   "outputs": [],
   "source": [
    "import os\n",
    "import time\n",
    "import numpy as np\n",
    "import pandas as pd\n",
    "import matplotlib.pyplot as plt\n",
    "import matplotlib.image as mpimg\n",
    "%matplotlib inline\n",
    "\n",
    "import cv2\n",
    "import ntpath\n",
    "\n",
    "from sklearn.model_selection import train_test_split\n",
    "\n",
    "import torch\n",
    "import torch.nn as nn\n",
    "import torch.optim as optim\n",
    "from torch.utils.data import DataLoader, TensorDataset\n",
    "from torchsummary import summary\n",
    "\n",
    "import warnings\n",
    "warnings.filterwarnings(\"ignore\")"
   ]
  },
  {
   "cell_type": "markdown",
   "id": "681aa0a4-bc78-4bc3-b3df-cd1bdf585f41",
   "metadata": {},
   "source": [
    "## Data Pre-Processing"
   ]
  },
  {
   "cell_type": "code",
   "execution_count": 2,
   "id": "4174fc74-1f6b-4169-a436-26b86c696424",
   "metadata": {},
   "outputs": [],
   "source": [
    "data_path = 'data'\n",
    "path = os.path.join(data_path,'driving_log.csv')\n",
    "data = pd.read_csv(path)"
   ]
  },
  {
   "cell_type": "code",
   "execution_count": 3,
   "id": "52915378-e074-4a76-bc1f-9a29997c64f9",
   "metadata": {},
   "outputs": [],
   "source": [
    "def path_leaf(path):\n",
    "  head, tail = ntpath.split(path)\n",
    "  return tail\n",
    "\n",
    "data['center'] = data['center'].apply(path_leaf)\n",
    "data['left'] = data['left'].apply(path_leaf)\n",
    "data['right'] = data['right'].apply(path_leaf)"
   ]
  },
  {
   "cell_type": "code",
   "execution_count": 4,
   "id": "47fbf13a-13ba-40cc-9641-308807f26b35",
   "metadata": {},
   "outputs": [
    {
     "name": "stdout",
     "output_type": "stream",
     "text": [
      "Total Number of Samples : 8036\n"
     ]
    }
   ],
   "source": [
    "center = data[data.columns[0]].values\n",
    "left = data[data.columns[1]].values\n",
    "right = data[data.columns[2]].values\n",
    "steering = data[data.columns[3]].values\n",
    "\n",
    "no_of_examples = len(steering)\n",
    "print(\"Total Number of Samples :\", no_of_examples)"
   ]
  },
  {
   "cell_type": "code",
   "execution_count": 5,
   "id": "1c0f7369-1628-440c-a75c-ef4e3df2f5ca",
   "metadata": {},
   "outputs": [],
   "source": [
    "image_path = 'IMG'\n",
    "image_path = os.path.join(data_path, image_path)"
   ]
  },
  {
   "cell_type": "code",
   "execution_count": 6,
   "id": "3bc31f79-2dde-4c02-b7ec-6469154e86e2",
   "metadata": {},
   "outputs": [],
   "source": [
    "def random_flip(image, steering_angle):\n",
    "    image = cv2.flip(image, 1)\n",
    "    steering_angle = -steering_angle\n",
    "    return image, steering_angle"
   ]
  },
  {
   "cell_type": "code",
   "execution_count": 7,
   "id": "a1f576d6-6107-4dc5-a918-b5db5925630f",
   "metadata": {},
   "outputs": [
    {
     "name": "stdout",
     "output_type": "stream",
     "text": [
      "x shape : (48216, 100, 100, 1)\n",
      "y shape : (48216, 1)\n"
     ]
    }
   ],
   "source": [
    "x = []\n",
    "y = []\n",
    "\n",
    "steer_adjust_factor = 0.2\n",
    "IMAGE_HEIGHT = 100 \n",
    "IMAGE_WIDTH = 100\n",
    "\n",
    "for i in range(no_of_examples):\n",
    "    for choice in range(3):\n",
    "        if choice == 0: # Center Image\n",
    "            img = cv2.imread(os.path.join(image_path, center[i]))\n",
    "            steering_angle = steering[i]\n",
    "        elif choice == 1: # Left Image\n",
    "            img = cv2.imread(os.path.join(image_path, left[i]))\n",
    "            steering_angle = steering[i] + steer_adjust_factor\n",
    "        elif choice == 2: # Right Image\n",
    "            img = cv2.imread(os.path.join(image_path, right[i]))\n",
    "            steering_angle = steering[i] - steer_adjust_factor\n",
    "        \n",
    "        img = cv2.cvtColor(img, cv2.COLOR_RGB2HSV)[:,:,1]\n",
    "        img = img[50:,:]\n",
    "        img = cv2.resize(img, (IMAGE_WIDTH, IMAGE_HEIGHT))\n",
    "        \n",
    "        x.append(img)\n",
    "        y.append(steering_angle)\n",
    "        \n",
    "        flipped_img, flipped_steering_angle = random_flip(img, steering_angle)\n",
    "                \n",
    "        x.append(flipped_img)\n",
    "        y.append(flipped_steering_angle)\n",
    "\n",
    "x = np.array(x)\n",
    "x = np.reshape(x, [x.shape[0], x.shape[1], x.shape[2], 1])\n",
    "\n",
    "y = np.array(y)\n",
    "y = np.reshape(y, [y.shape[0],1])\n",
    "\n",
    "print(\"x shape :\", x.shape)\n",
    "print(\"y shape :\", y.shape)"
   ]
  },
  {
   "cell_type": "code",
   "execution_count": 8,
   "id": "4735b150-5e3e-47ed-ae14-949c24a79161",
   "metadata": {},
   "outputs": [
    {
     "name": "stdout",
     "output_type": "stream",
     "text": [
      "x_train size : 38572\n",
      "x_test size : 9644\n"
     ]
    }
   ],
   "source": [
    "x_train, x_test, y_train, y_test = train_test_split(x, y, test_size=0.2, random_state=42)\n",
    "\n",
    "x_train_size = x_train.shape[0]\n",
    "x_test_size = x_test.shape[0]\n",
    "\n",
    "print(\"x_train size :\", x_train_size)\n",
    "print(\"x_test size :\", x_test_size)"
   ]
  },
  {
   "cell_type": "code",
   "execution_count": 9,
   "id": "9d38102b-a474-44a6-8cb6-e6ffaf615389",
   "metadata": {},
   "outputs": [],
   "source": [
    "def get_default_device():\n",
    "  # Pick GPU, if available, else CPU\n",
    "  if torch.cuda.is_available():\n",
    "    return torch.device('cuda')\n",
    "  else:\n",
    "    return torch.device('cpu')\n",
    "\n",
    "def to_device(data, device):\n",
    "  # Move tensors to chosen device\n",
    "  if isinstance(data, (list, tuple)):\n",
    "    # If the instance is a list/tuple, transfer each element to chosen device\n",
    "    return [to_device(x, device) for x in data]\n",
    "  return data.to(device, non_blocking=True)\n",
    "  # non_blocking=True doesn't block the execution of the host device until transfers complete\n",
    "\n",
    "class DeviceDataLoader():\n",
    "  # Wrap a dataloader to move data to a device\n",
    "  def __init__(self, dl, device):\n",
    "    self.dl = dl\n",
    "    self.device = device\n",
    "    self.dataset = dl.dataset\n",
    "\n",
    "  def __iter__(self):\n",
    "    # Yield a batch of data after moving it to device\n",
    "    for b in self.dl:\n",
    "      yield to_device(b, self.device)\n",
    "\n",
    "  def __len__(self):\n",
    "    # Number of batches\n",
    "    return len(self.dl)"
   ]
  },
  {
   "cell_type": "code",
   "execution_count": 10,
   "id": "36065aa7-be2a-451c-a230-c55c9adf45c8",
   "metadata": {},
   "outputs": [
    {
     "data": {
      "text/plain": [
       "device(type='cuda')"
      ]
     },
     "execution_count": 10,
     "metadata": {},
     "output_type": "execute_result"
    }
   ],
   "source": [
    "# Get the default device\n",
    "device = get_default_device()\n",
    "device"
   ]
  },
  {
   "cell_type": "markdown",
   "id": "d95ea927-490b-44c5-a8ab-6d91e401f0e8",
   "metadata": {},
   "source": [
    "We split the dataset into different driving contexts"
   ]
  },
  {
   "cell_type": "code",
   "execution_count": 11,
   "id": "e6292deb-aedb-4bd8-a409-18896a8459c8",
   "metadata": {},
   "outputs": [],
   "source": [
    "# Driving Straight Context on Train Dataset\n",
    "train_straight_idxs = ((y_train <= 0.2) & (y_train >= -0.2)).nonzero()[0].squeeze()\n",
    "\n",
    "# Driving on Left Curves Context on Train Dataset\n",
    "train_left_idxs = ((y_train < -0.2) & (y_train >= -0.5)).nonzero()[0].squeeze()\n",
    "\n",
    "# Driving on Right Curves Context on Train Dataset\n",
    "train_right_idxs = ((y_train > 0.2 )& (y_train <= 0.5)).nonzero()[0].squeeze()\n",
    "\n",
    "# Driving on Left Turns Context on Train Dataset\n",
    "train_sharp_left_idxs = (y_train < -0.5).nonzero()[0].squeeze()\n",
    "\n",
    "# Driving on Right Turns Context on Train Dataset\n",
    "train_sharp_right_idxs = (y_train > 0.5).nonzero()[0].squeeze()"
   ]
  },
  {
   "cell_type": "code",
   "execution_count": 12,
   "id": "fb186581-1a78-43dd-8339-7fb4988281a3",
   "metadata": {},
   "outputs": [],
   "source": [
    "# Driving Straight Context on Test Dataset\n",
    "test_straight_idxs = ((y_test <= 0.2) & (y_test >= -0.2)).nonzero()[0].squeeze()\n",
    "\n",
    "# Driving on Left Curves Context on Test Dataset\n",
    "test_left_idxs = ((y_test < -0.2) & (y_test >= -0.5)).nonzero()[0].squeeze()\n",
    "\n",
    "# Driving on Right Curves Context on Test Dataset\n",
    "test_right_idxs = ((y_test > 0.2 )& (y_test <= 0.5)).nonzero()[0].squeeze()\n",
    "\n",
    "# Driving on Left Turns Context on Test Dataset\n",
    "test_sharp_left_idxs = (y_test < -0.5).nonzero()[0].squeeze()\n",
    "\n",
    "# Driving on Right Turns Context on Test Dataset\n",
    "test_sharp_right_idxs = (y_test > 0.5).nonzero()[0].squeeze()"
   ]
  },
  {
   "cell_type": "code",
   "execution_count": 13,
   "id": "4f735ed4-d0ad-4475-b649-1de59824a3cd",
   "metadata": {},
   "outputs": [],
   "source": [
    "train_contexts = [train_straight_idxs, train_left_idxs, train_right_idxs, train_sharp_left_idxs, train_sharp_right_idxs]\n",
    "test_contexts = [test_straight_idxs, test_left_idxs, test_right_idxs, test_sharp_left_idxs, test_sharp_right_idxs]"
   ]
  },
  {
   "cell_type": "code",
   "execution_count": 14,
   "id": "aa736530-0f3c-43e9-83d1-5bc0de554415",
   "metadata": {},
   "outputs": [],
   "source": [
    "x_train_tensor = torch.Tensor(x_train).permute(0, 3, 1, 2)  # Change channels last to channels first\n",
    "y_train_tensor = torch.Tensor(y_train)\n",
    "\n",
    "x_test_tensor = torch.Tensor(x_test).permute(0, 3, 1, 2)  # Change channels last to channels first\n",
    "y_test_tensor = torch.Tensor(y_test)"
   ]
  },
  {
   "cell_type": "markdown",
   "id": "871827c8-f3c6-4611-9ed2-05f7767f3341",
   "metadata": {},
   "source": [
    "## Model"
   ]
  },
  {
   "cell_type": "code",
   "execution_count": 15,
   "id": "44810415-4365-49f2-a1be-80c25c67b922",
   "metadata": {},
   "outputs": [],
   "source": [
    "class CNNModel(nn.Module):\n",
    "    def __init__(self, height, width):\n",
    "        super(CNNModel, self).__init__()\n",
    "        \n",
    "        self.height = height\n",
    "        self.width = width\n",
    "        \n",
    "        # Input normalization\n",
    "        self.norm = nn.BatchNorm2d(1)\n",
    "        \n",
    "        # Convolutional layers\n",
    "        self.conv1 = nn.Conv2d(1, 32, kernel_size=3, stride=1, padding=1)\n",
    "        self.conv2 = nn.Conv2d(32, 32, kernel_size=3, stride=1, padding=1)\n",
    "        self.conv3 = nn.Conv2d(32, 64, kernel_size=3, stride=1, padding=1)\n",
    "        self.conv4 = nn.Conv2d(64, 64, kernel_size=3, stride=1, padding=1)        \n",
    "        self.conv5 = nn.Conv2d(64, 128, kernel_size=3, stride=1, padding=1)\n",
    "        self.conv6 = nn.Conv2d(128, 128, kernel_size=3, stride=1, padding=1)\n",
    "        \n",
    "        # Pooling layer\n",
    "        self.pool = nn.MaxPool2d(2, 2)\n",
    "        \n",
    "        # Fully connected layers\n",
    "        self.fc1 = nn.Linear(128 * (height // 16) * (width // 16), 512)\n",
    "        self.fc2 = nn.Linear(512, 256)\n",
    "        self.fc3 = nn.Linear(256, 64)\n",
    "        self.fc4 = nn.Linear(64, 1)\n",
    "        \n",
    "        # Dropout and Batch normalization\n",
    "        self.dropout = nn.Dropout(0.5)\n",
    "        self.batchnorm1 = nn.BatchNorm1d(512)\n",
    "        self.batchnorm2 = nn.BatchNorm1d(256)\n",
    "        self.batchnorm3 = nn.BatchNorm1d(64)\n",
    "        \n",
    "    def forward(self, x):\n",
    "        x = self.norm(x)\n",
    "        x = self.conv1(x)\n",
    "        x = nn.ReLU()(x)\n",
    "        x = self.conv2(x)\n",
    "        x = nn.ReLU()(x)\n",
    "        x = self.pool(x)\n",
    "        x = self.conv3(x)\n",
    "        x = nn.ReLU()(x)\n",
    "        x = self.conv4(x)\n",
    "        x = nn.ReLU()(x)\n",
    "        x = self.pool(x)\n",
    "        x = self.conv5(x)\n",
    "        x = nn.ReLU()(x)\n",
    "        x = self.pool(x)\n",
    "        x = self.conv6(x)\n",
    "        x = nn.ReLU()(x)\n",
    "        x = self.pool(x)\n",
    "        x = x.view(x.size(0), -1)\n",
    "        x = self.dropout(x)\n",
    "        x = self.batchnorm1(self.fc1(x))\n",
    "        x = self.batchnorm2(self.fc2(x))\n",
    "        x = self.batchnorm3(self.fc3(x))\n",
    "        x = self.fc4(x)\n",
    "        return x"
   ]
  },
  {
   "cell_type": "code",
   "execution_count": 16,
   "id": "cc05719c-d2ff-4f00-8689-8009ce77920a",
   "metadata": {},
   "outputs": [],
   "source": [
    "model = CNNModel(IMAGE_HEIGHT, IMAGE_WIDTH)"
   ]
  },
  {
   "cell_type": "code",
   "execution_count": 17,
   "id": "4521a393-6648-4042-8263-d2a07e83b16a",
   "metadata": {},
   "outputs": [],
   "source": [
    "model =  model.to(device)\n",
    "if device == 'cuda':\n",
    "  model = torch.nn.DataParallel(model)\n",
    "  cudnn.benchmark = True"
   ]
  },
  {
   "cell_type": "code",
   "execution_count": 18,
   "id": "0a20538a-da99-4434-93db-db8e512e11a9",
   "metadata": {},
   "outputs": [
    {
     "name": "stdout",
     "output_type": "stream",
     "text": [
      "=================================================================\n",
      "Layer (type:depth-idx)                   Param #\n",
      "=================================================================\n",
      "├─BatchNorm2d: 1-1                       2\n",
      "├─Conv2d: 1-2                            320\n",
      "├─Conv2d: 1-3                            9,248\n",
      "├─Conv2d: 1-4                            18,496\n",
      "├─Conv2d: 1-5                            36,928\n",
      "├─Conv2d: 1-6                            73,856\n",
      "├─Conv2d: 1-7                            147,584\n",
      "├─MaxPool2d: 1-8                         --\n",
      "├─Linear: 1-9                            2,359,808\n",
      "├─Linear: 1-10                           131,328\n",
      "├─Linear: 1-11                           16,448\n",
      "├─Linear: 1-12                           65\n",
      "├─Dropout: 1-13                          --\n",
      "├─BatchNorm1d: 1-14                      1,024\n",
      "├─BatchNorm1d: 1-15                      512\n",
      "├─BatchNorm1d: 1-16                      128\n",
      "=================================================================\n",
      "Total params: 2,795,747\n",
      "Trainable params: 2,795,747\n",
      "Non-trainable params: 0\n",
      "=================================================================\n",
      "=================================================================\n",
      "Layer (type:depth-idx)                   Param #\n",
      "=================================================================\n",
      "├─BatchNorm2d: 1-1                       2\n",
      "├─Conv2d: 1-2                            320\n",
      "├─Conv2d: 1-3                            9,248\n",
      "├─Conv2d: 1-4                            18,496\n",
      "├─Conv2d: 1-5                            36,928\n",
      "├─Conv2d: 1-6                            73,856\n",
      "├─Conv2d: 1-7                            147,584\n",
      "├─MaxPool2d: 1-8                         --\n",
      "├─Linear: 1-9                            2,359,808\n",
      "├─Linear: 1-10                           131,328\n",
      "├─Linear: 1-11                           16,448\n",
      "├─Linear: 1-12                           65\n",
      "├─Dropout: 1-13                          --\n",
      "├─BatchNorm1d: 1-14                      1,024\n",
      "├─BatchNorm1d: 1-15                      512\n",
      "├─BatchNorm1d: 1-16                      128\n",
      "=================================================================\n",
      "Total params: 2,795,747\n",
      "Trainable params: 2,795,747\n",
      "Non-trainable params: 0\n",
      "=================================================================\n"
     ]
    }
   ],
   "source": [
    "print(summary(model, input_size=(1, IMAGE_HEIGHT, IMAGE_WIDTH)))"
   ]
  },
  {
   "cell_type": "code",
   "execution_count": 19,
   "id": "807ed88d-0bd0-4346-b9c2-3213fb6a919b",
   "metadata": {},
   "outputs": [],
   "source": [
    "epochs = 10\n",
    "lr = 0.001\n",
    "\n",
    "criterion = nn.MSELoss()\n",
    "optimizer = optim.Adam(model.parameters(), lr=lr)"
   ]
  },
  {
   "cell_type": "markdown",
   "id": "98bc1d11-35fc-43ce-8eac-ce2ea0464d80",
   "metadata": {},
   "source": [
    "For EWC: we keep a copy of the model's parameters"
   ]
  },
  {
   "cell_type": "code",
   "execution_count": 20,
   "id": "8c7a010a-e238-4903-becb-030bd7278f9b",
   "metadata": {},
   "outputs": [],
   "source": [
    "prior_model = CNNModel(IMAGE_HEIGHT, IMAGE_WIDTH)\n",
    "prior_model.load_state_dict(model.state_dict())\n",
    "\n",
    "prior_model = prior_model.to(device)\n",
    "if device == 'cuda':\n",
    "  prior_model = torch.nn.DataParallel(prior_model)\n",
    "  cudnn.benchmark = True"
   ]
  },
  {
   "cell_type": "code",
   "execution_count": 21,
   "id": "07ef3f88-4ceb-40bf-9bea-e37fc72f5aa4",
   "metadata": {},
   "outputs": [],
   "source": [
    "# EWC hyperparameter\n",
    "lambda_ewc = 0.1"
   ]
  },
  {
   "cell_type": "markdown",
   "id": "a5793b1a-1c70-4d8c-a9f3-e5eb427c5c85",
   "metadata": {},
   "source": [
    "## Model Training"
   ]
  },
  {
   "cell_type": "code",
   "execution_count": 22,
   "id": "5dfc8d82-ec1f-486c-a199-0ad50d7fcd24",
   "metadata": {},
   "outputs": [],
   "source": [
    "# Training Helper Function to Format Time\n",
    "def format_time(seconds):\n",
    "  days = int(seconds / 3600/24)\n",
    "  seconds = seconds - days*3600*24\n",
    "  hours = int(seconds / 3600)\n",
    "  seconds = seconds - hours*3600\n",
    "  minutes = int(seconds / 60)\n",
    "  seconds = seconds - minutes*60\n",
    "  secondsf = int(seconds)\n",
    "  seconds = seconds - secondsf\n",
    "  millis = int(seconds*1000)\n",
    "\n",
    "  f = ''\n",
    "  i = 1\n",
    "  if days > 0:\n",
    "    f += str(days) + 'D'\n",
    "    i += 1\n",
    "  if hours > 0 and i <= 2:\n",
    "    f += str(hours) + 'h'\n",
    "    i += 1\n",
    "  if minutes > 0 and i <= 2:\n",
    "    f += str(minutes) + 'm'\n",
    "    i += 1\n",
    "  if secondsf > 0 and i <= 2:\n",
    "    f += str(secondsf) + 's'\n",
    "    i += 1\n",
    "  if millis > 0 and i <= 2:\n",
    "    f += str(millis) + 'ms'\n",
    "    i += 1\n",
    "  if f == '':\n",
    "    f = '0ms'\n",
    "  return f"
   ]
  },
  {
   "cell_type": "code",
   "execution_count": 23,
   "id": "fd84dfc0-fab4-4ead-9122-1524cd8b2eb5",
   "metadata": {},
   "outputs": [
    {
     "name": "stdout",
     "output_type": "stream",
     "text": [
      "Training for Context 1\n",
      "Epoch [1/10] | Train Loss: 0.2059\n",
      "Time Taken : 14s196ms\n",
      "\n",
      "Epoch [2/10] | Train Loss: 0.1169\n",
      "Time Taken : 12s151ms\n",
      "\n",
      "Epoch [3/10] | Train Loss: 0.1077\n",
      "Time Taken : 11s862ms\n",
      "\n",
      "Epoch [4/10] | Train Loss: 0.1039\n",
      "Time Taken : 12s623ms\n",
      "\n",
      "Epoch [5/10] | Train Loss: 0.1025\n",
      "Time Taken : 11s877ms\n",
      "\n",
      "Epoch [6/10] | Train Loss: 0.0998\n",
      "Time Taken : 11s860ms\n",
      "\n",
      "Epoch [7/10] | Train Loss: 0.1005\n",
      "Time Taken : 11s970ms\n",
      "\n",
      "Epoch [8/10] | Train Loss: 0.1002\n",
      "Time Taken : 12s269ms\n",
      "\n",
      "Epoch [9/10] | Train Loss: 0.1024\n",
      "Time Taken : 12s117ms\n",
      "\n",
      "Epoch [10/10] | Train Loss: 0.1012\n",
      "Time Taken : 11s966ms\n",
      "\n",
      "---\n",
      "\n",
      "Training for Context 2\n",
      "Epoch [1/10] | Train Loss: 0.0819\n",
      "Time Taken : 1s533ms\n",
      "\n",
      "Epoch [2/10] | Train Loss: 0.0373\n",
      "Time Taken : 1s494ms\n",
      "\n",
      "Epoch [3/10] | Train Loss: 0.0269\n",
      "Time Taken : 1s490ms\n",
      "\n",
      "Epoch [4/10] | Train Loss: 0.0210\n",
      "Time Taken : 1s555ms\n",
      "\n",
      "Epoch [5/10] | Train Loss: 0.0194\n",
      "Time Taken : 1s549ms\n",
      "\n",
      "Epoch [6/10] | Train Loss: 0.0183\n",
      "Time Taken : 1s554ms\n",
      "\n",
      "Epoch [7/10] | Train Loss: 0.0183\n",
      "Time Taken : 1s542ms\n",
      "\n",
      "Epoch [8/10] | Train Loss: 0.0184\n",
      "Time Taken : 1s622ms\n",
      "\n",
      "Epoch [9/10] | Train Loss: 0.0184\n",
      "Time Taken : 1s491ms\n",
      "\n",
      "Epoch [10/10] | Train Loss: 0.0187\n",
      "Time Taken : 1s545ms\n",
      "\n",
      "---\n",
      "\n",
      "Training for Context 3\n",
      "Epoch [1/10] | Train Loss: 0.2589\n",
      "Time Taken : 1s527ms\n",
      "\n",
      "Epoch [2/10] | Train Loss: 0.4901\n",
      "Time Taken : 1s606ms\n",
      "\n",
      "Epoch [3/10] | Train Loss: 0.2526\n",
      "Time Taken : 1s494ms\n",
      "\n",
      "Epoch [4/10] | Train Loss: 0.1598\n",
      "Time Taken : 1s551ms\n",
      "\n",
      "Epoch [5/10] | Train Loss: 0.1102\n",
      "Time Taken : 1s550ms\n",
      "\n",
      "Epoch [6/10] | Train Loss: 0.0869\n",
      "Time Taken : 1s615ms\n",
      "\n",
      "Epoch [7/10] | Train Loss: 0.0681\n",
      "Time Taken : 1s493ms\n",
      "\n",
      "Epoch [8/10] | Train Loss: 0.0553\n",
      "Time Taken : 1s614ms\n",
      "\n",
      "Epoch [9/10] | Train Loss: 0.0464\n",
      "Time Taken : 1s551ms\n",
      "\n",
      "Epoch [10/10] | Train Loss: 0.0425\n",
      "Time Taken : 1s613ms\n",
      "\n",
      "---\n",
      "\n",
      "Training for Context 4\n",
      "Epoch [1/10] | Train Loss: 0.7455\n",
      "Time Taken : 406ms\n",
      "\n",
      "Epoch [2/10] | Train Loss: 0.7117\n",
      "Time Taken : 368ms\n",
      "\n",
      "Epoch [3/10] | Train Loss: 0.6666\n",
      "Time Taken : 377ms\n",
      "\n",
      "Epoch [4/10] | Train Loss: 0.6251\n",
      "Time Taken : 375ms\n",
      "\n",
      "Epoch [5/10] | Train Loss: 0.5739\n",
      "Time Taken : 383ms\n",
      "\n",
      "Epoch [6/10] | Train Loss: 0.5722\n",
      "Time Taken : 373ms\n",
      "\n",
      "Epoch [7/10] | Train Loss: 0.6754\n",
      "Time Taken : 372ms\n",
      "\n",
      "Epoch [8/10] | Train Loss: 0.9006\n",
      "Time Taken : 380ms\n",
      "\n",
      "Epoch [9/10] | Train Loss: 1.4663\n",
      "Time Taken : 381ms\n",
      "\n",
      "Epoch [10/10] | Train Loss: 1.3636\n",
      "Time Taken : 387ms\n",
      "\n",
      "---\n",
      "\n",
      "Training for Context 5\n",
      "Epoch [1/10] | Train Loss: 1.2083\n",
      "Time Taken : 418ms\n",
      "\n",
      "Epoch [2/10] | Train Loss: 0.9735\n",
      "Time Taken : 370ms\n",
      "\n",
      "Epoch [3/10] | Train Loss: 0.5919\n",
      "Time Taken : 377ms\n",
      "\n",
      "Epoch [4/10] | Train Loss: 0.4611\n",
      "Time Taken : 378ms\n",
      "\n",
      "Epoch [5/10] | Train Loss: 0.3826\n",
      "Time Taken : 388ms\n",
      "\n",
      "Epoch [6/10] | Train Loss: 0.3456\n",
      "Time Taken : 371ms\n",
      "\n",
      "Epoch [7/10] | Train Loss: 0.3196\n",
      "Time Taken : 388ms\n",
      "\n",
      "Epoch [8/10] | Train Loss: 0.2979\n",
      "Time Taken : 373ms\n",
      "\n",
      "Epoch [9/10] | Train Loss: 0.2756\n",
      "Time Taken : 369ms\n",
      "\n",
      "Epoch [10/10] | Train Loss: 0.2619\n",
      "Time Taken : 369ms\n",
      "\n",
      "---\n",
      "\n"
     ]
    }
   ],
   "source": [
    "# Train the model for each context\n",
    "train_losses_per_context = []\n",
    "\n",
    "for context_idx, idxs in enumerate(train_contexts):\n",
    "    print(f\"Training for Context {context_idx + 1}\")\n",
    "    \n",
    "    # Create a dataset and dataloader for the current context\n",
    "    x_train_context = x_train_tensor[idxs]\n",
    "    y_train_context = y_train_tensor[idxs]\n",
    "    \n",
    "    context_dataset = TensorDataset(x_train_context, y_train_context)\n",
    "    \n",
    "    context_loader = DataLoader(context_dataset, batch_size=64, shuffle=True, num_workers=3, pin_memory=True)\n",
    "    context_loader = DeviceDataLoader(context_loader, device)\n",
    "\n",
    "    train_losses = []\n",
    "    \n",
    "    # Train the model\n",
    "    for epoch in range(epochs):\n",
    "        start_time = time.time()\n",
    "        \n",
    "        train_running_loss = 0.0\n",
    "\n",
    "        model.train()\n",
    "        \n",
    "        for inputs, labels in context_loader:\n",
    "            optimizer.zero_grad()\n",
    "            outputs = model(inputs)\n",
    "            loss = criterion(outputs, labels)\n",
    "            # EWC loss\n",
    "            ewc_loss = 0\n",
    "            for name, param in model.named_parameters():\n",
    "                if name in prior_model.state_dict():\n",
    "                    ewc_loss += torch.norm(param - prior_model.state_dict()[name]) ** 2\n",
    "            loss += lambda_ewc * ewc_loss\n",
    "            loss.backward()\n",
    "            optimizer.step()\n",
    "            train_running_loss += loss.item() * inputs.size(0)\n",
    "        \n",
    "        train_epoch_loss = train_running_loss / len(context_loader.dataset)\n",
    "        train_losses.append(train_epoch_loss)\n",
    "\n",
    "        cur_time = time.time()\n",
    "        epoch_time = cur_time - start_time\n",
    "        \n",
    "        print(f'Epoch [{epoch+1}/{epochs}] | Train Loss: {train_epoch_loss:.4f}')\n",
    "        print(f'Time Taken : {format_time(epoch_time)}')\n",
    "        print('')\n",
    "\n",
    "    train_losses_per_context.append(train_losses)\n",
    "    \n",
    "    # Update the prior model with the current model's parameters after each context\n",
    "    prior_model.load_state_dict(model.state_dict())\n",
    "\n",
    "    print('---')\n",
    "    print('')"
   ]
  },
  {
   "cell_type": "markdown",
   "id": "78057ecd-3ee8-4cf2-9b34-eb21f8d94111",
   "metadata": {},
   "source": [
    "## Model Evaluation"
   ]
  },
  {
   "cell_type": "code",
   "execution_count": 25,
   "id": "556f265e-6978-4cd1-82d1-381f48575309",
   "metadata": {},
   "outputs": [
    {
     "name": "stdout",
     "output_type": "stream",
     "text": [
      "Evaluating on Test Dataset for Context 1\n",
      "Test Loss for Context 1 : 0.0557\n",
      "\n",
      "Evaluating on Test Dataset for Context 2\n",
      "Test Loss for Context 2 : 0.2315\n",
      "\n",
      "Evaluating on Test Dataset for Context 3\n",
      "Test Loss for Context 3 : 0.0169\n",
      "\n",
      "Evaluating on Test Dataset for Context 4\n",
      "Test Loss for Context 4 : 0.5949\n",
      "\n",
      "Evaluating on Test Dataset for Context 5\n",
      "Test Loss for Context 5 : 0.1780\n",
      "\n",
      "Overall Test Loss: 0.2154\n"
     ]
    }
   ],
   "source": [
    "# Evaluate the model on the test dataset for each context and overall\n",
    "test_losses_per_context = []\n",
    "\n",
    "for context_idx, idxs in enumerate(test_contexts):\n",
    "    print(f\"Evaluating on Test Dataset for Context {context_idx + 1}\")\n",
    "    \n",
    "    x_test_context = x_test_tensor[idxs]\n",
    "    y_test_context = y_test_tensor[idxs]\n",
    "    \n",
    "    context_test_dataset = TensorDataset(x_test_context, y_test_context)\n",
    "    context_test_loader = DataLoader(context_test_dataset, batch_size=64, num_workers=3, pin_memory=True)\n",
    "    context_test_loader = DeviceDataLoader(context_test_loader, device)\n",
    "    \n",
    "    model.eval()\n",
    "    \n",
    "    test_running_loss = 0.0\n",
    "    \n",
    "    with torch.no_grad():\n",
    "        for inputs, labels in context_test_loader:\n",
    "            outputs = model(inputs)\n",
    "            loss = criterion(outputs, labels)\n",
    "            test_running_loss += loss.item() * inputs.size(0)\n",
    "    \n",
    "    test_epoch_loss = test_running_loss / len(context_test_loader.dataset)\n",
    "    test_losses_per_context.append(test_epoch_loss)\n",
    "    \n",
    "    print(f\"Test Loss for Context {context_idx + 1} : {test_epoch_loss:.4f}\")\n",
    "    print('')\n",
    "\n",
    "# Calculating Overall Test Loss\n",
    "overall_test_loss = sum(test_losses_per_context) / len(test_losses_per_context)\n",
    "print(f\"Overall Test Loss: {overall_test_loss:.4f}\")"
   ]
  },
  {
   "cell_type": "code",
   "execution_count": 26,
   "id": "68891da1-d734-4b99-8ef6-a5a8146b3e11",
   "metadata": {},
   "outputs": [
    {
     "data": {
      "text/plain": [
       "Text(0.5, 1.0, 'Loss vs. No. of Iterations')"
      ]
     },
     "execution_count": 26,
     "metadata": {},
     "output_type": "execute_result"
    },
    {
     "data": {
      "image/png": "[encoded data removed]",
      "text/plain": [
       "<Figure size 640x480 with 1 Axes>"
      ]
     },
     "metadata": {},
     "output_type": "display_data"
    }
   ],
   "source": [
    "train_losses_flatten = [j for sub in train_losses_per_context for j in sub]\n",
    "\n",
    "plt.plot(train_losses_flatten, label='Train Losses')\n",
    "for i in range(1, len(train_contexts) + 1):\n",
    "    plt.axvline(x=epochs*(i-1), color='r', label=f'Context {i}')\n",
    "plt.xlabel('Iterations')\n",
    "plt.ylabel('Loss')\n",
    "plt.legend()\n",
    "plt.grid(True)\n",
    "plt.title('Loss vs. No. of Iterations')"
   ]
  },
  {
   "cell_type": "code",
   "execution_count": 27,
   "id": "726889e4-0b4a-48a2-b022-4f2a06b31675",
   "metadata": {},
   "outputs": [
    {
     "name": "stderr",
     "output_type": "stream",
     "text": [
      "No artists with labels found to put in legend.  Note that artists whose label start with an underscore are ignored when legend() is called with no argument.\n"
     ]
    },
    {
     "data": {
      "text/plain": [
       "Text(0.5, 1.0, 'Loss vs. Contexts')"
      ]
     },
     "execution_count": 27,
     "metadata": {},
     "output_type": "execute_result"
    },
    {
     "data": {
      "image/png": "[encoded data removed]",
      "text/plain": [
       "<Figure size 1000x500 with 1 Axes>"
      ]
     },
     "metadata": {},
     "output_type": "display_data"
    }
   ],
   "source": [
    "context_list = [f'Context {i+1}' for i in range(len(test_contexts))]\n",
    "\n",
    "fig = plt.figure(figsize = (10, 5))\n",
    "plt.bar(context_list, test_losses_per_context, color ='maroon', \n",
    "        width = 0.4)\n",
    "plt.xlabel(\"Context\")\n",
    "plt.ylabel(\"Test Loss\")\n",
    "plt.legend()\n",
    "plt.grid(True)\n",
    "plt.title(\"Loss vs. Contexts\")"
   ]
  },
  {
   "cell_type": "code",
   "execution_count": 28,
   "id": "b3611551-4b83-43b9-aae3-dc074125e53c",
   "metadata": {},
   "outputs": [],
   "source": [
    "# Saving model state\n",
    "state = {\n",
    "        'model': model.state_dict(),\n",
    "        'train_losses_per_context': train_losses_per_context,\n",
    "        'test_losses_per_context': test_losses_per_context,\n",
    "        'epochs': epochs,\n",
    "        'lr': lr,\n",
    "    }\n",
    "\n",
    "torch.save(state, 'ewc_approach.pth')"
   ]
  },
  {
   "cell_type": "code",
   "execution_count": null,
   "id": "f059bcf3-11c8-4f59-ba97-d6715520e0cd",
   "metadata": {},
   "outputs": [],
   "source": []
  }
 ],
 "metadata": {
  "kernelspec": {
   "display_name": "Python 3 (ipykernel)",
   "language": "python",
   "name": "python3"
  },
  "language_info": {
   "codemirror_mode": {
    "name": "ipython",
    "version": 3
   },
   "file_extension": ".py",
   "mimetype": "text/x-python",
   "name": "python",
   "nbconvert_exporter": "python",
   "pygments_lexer": "ipython3",
   "version": "3.11.7"
  }
 },
 "nbformat": 4,
 "nbformat_minor": 5
}
