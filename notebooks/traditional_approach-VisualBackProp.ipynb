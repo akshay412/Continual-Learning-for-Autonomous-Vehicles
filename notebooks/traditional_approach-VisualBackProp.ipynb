{
 "cells": [
  {
   "cell_type": "markdown",
   "id": "f68427c0-b640-4c60-b1e3-487a50b0d996",
   "metadata": {},
   "source": [
    "# Traditional Approach for Training with Visual BackProp\n",
    "\n",
    "In this notebook, we apply the traditional approach of training a deep neural network model for predicting steering angle based on the input images."
   ]
  },
  {
   "cell_type": "code",
   "execution_count": 1,
   "id": "06550205-4ee8-48ce-9a0d-3bf62f4e88f1",
   "metadata": {},
   "outputs": [],
   "source": [
    "import os\n",
    "import time\n",
    "import numpy as np\n",
    "import pandas as pd\n",
    "import matplotlib.pyplot as plt\n",
    "import matplotlib.image as mpimg\n",
    "%matplotlib inline\n",
    "\n",
    "import cv2\n",
    "import ntpath\n",
    "\n",
    "from sklearn.model_selection import train_test_split\n",
    "\n",
    "import torch\n",
    "import torch.nn as nn\n",
    "import torch.nn.functional as F\n",
    "import torch.optim as optim\n",
    "from torch.utils.data import DataLoader, TensorDataset\n",
    "from torchsummary import summary\n",
    "\n",
    "import warnings\n",
    "warnings.filterwarnings(\"ignore\")"
   ]
  },
  {
   "cell_type": "code",
   "execution_count": 2,
   "id": "755c0a71-eced-424d-aba6-505968dcfb18",
   "metadata": {},
   "outputs": [],
   "source": [
    "import random"
   ]
  },
  {
   "cell_type": "markdown",
   "id": "8021c4a4-1bc3-4eb3-82df-bcbcc876dbde",
   "metadata": {},
   "source": [
    "## Data Pre-Processing"
   ]
  },
  {
   "cell_type": "code",
   "execution_count": 3,
   "id": "a84d69d8-cbb1-4956-b222-5c62b426e3f4",
   "metadata": {},
   "outputs": [],
   "source": [
    "data_path = 'data'\n",
    "path = os.path.join(data_path,'driving_log.csv')\n",
    "data = pd.read_csv(path)"
   ]
  },
  {
   "cell_type": "code",
   "execution_count": 4,
   "id": "6db74b21-3bba-452d-b35c-d32ac0abcc3f",
   "metadata": {},
   "outputs": [],
   "source": [
    "def path_leaf(path):\n",
    "  head, tail = ntpath.split(path)\n",
    "  return tail\n",
    "\n",
    "data['center'] = data['center'].apply(path_leaf)\n",
    "data['left'] = data['left'].apply(path_leaf)\n",
    "data['right'] = data['right'].apply(path_leaf)"
   ]
  },
  {
   "cell_type": "code",
   "execution_count": 5,
   "id": "1bc6684d-862a-4fd1-a11d-57d616888124",
   "metadata": {},
   "outputs": [
    {
     "name": "stdout",
     "output_type": "stream",
     "text": [
      "Total Number of Samples : 8036\n"
     ]
    }
   ],
   "source": [
    "center = data[data.columns[0]].values\n",
    "left = data[data.columns[1]].values\n",
    "right = data[data.columns[2]].values\n",
    "steering = data[data.columns[3]].values\n",
    "\n",
    "no_of_examples = len(steering)\n",
    "print(\"Total Number of Samples :\", no_of_examples)"
   ]
  },
  {
   "cell_type": "code",
   "execution_count": 6,
   "id": "83a68229-1a74-4e5a-b371-153efc6441de",
   "metadata": {},
   "outputs": [],
   "source": [
    "image_path = 'IMG'\n",
    "image_path = os.path.join(data_path, image_path)"
   ]
  },
  {
   "cell_type": "code",
   "execution_count": 7,
   "id": "8cc019eb-eda3-4fce-8a14-35a043654244",
   "metadata": {},
   "outputs": [],
   "source": [
    "def random_flip(image, steering_angle):\n",
    "    image = cv2.flip(image, 1)\n",
    "    steering_angle = -steering_angle\n",
    "    return image, steering_angle"
   ]
  },
  {
   "cell_type": "code",
   "execution_count": 8,
   "id": "a4ca48fd-5243-4f6b-9e11-6c82e0f7fbb3",
   "metadata": {},
   "outputs": [
    {
     "name": "stdout",
     "output_type": "stream",
     "text": [
      "x shape : (48216, 100, 100, 1)\n",
      "y shape : (48216, 1)\n"
     ]
    }
   ],
   "source": [
    "x = []\n",
    "y = []\n",
    "\n",
    "steer_adjust_factor = 0.2\n",
    "IMAGE_HEIGHT = 100 \n",
    "IMAGE_WIDTH = 100\n",
    "\n",
    "for i in range(no_of_examples):\n",
    "    for choice in range(3):\n",
    "        if choice == 0: # Center Image\n",
    "            img = cv2.imread(os.path.join(image_path, center[i]))\n",
    "            steering_angle = steering[i]\n",
    "        elif choice == 1: # Left Image\n",
    "            img = cv2.imread(os.path.join(image_path, left[i]))\n",
    "            steering_angle = steering[i] + steer_adjust_factor\n",
    "        elif choice == 2: # Right Image\n",
    "            img = cv2.imread(os.path.join(image_path, right[i]))\n",
    "            steering_angle = steering[i] - steer_adjust_factor\n",
    "        \n",
    "        img = cv2.cvtColor(img, cv2.COLOR_RGB2HSV)[:,:,1]\n",
    "        img = img[50:,:]\n",
    "        img = cv2.resize(img, (IMAGE_WIDTH, IMAGE_HEIGHT))\n",
    "        \n",
    "        x.append(img)\n",
    "        y.append(steering_angle)\n",
    "        \n",
    "        flipped_img, flipped_steering_angle = random_flip(img, steering_angle)\n",
    "                \n",
    "        x.append(flipped_img)\n",
    "        y.append(flipped_steering_angle)\n",
    "\n",
    "x = np.array(x)\n",
    "x = np.reshape(x, [x.shape[0], x.shape[1], x.shape[2], 1])\n",
    "\n",
    "y = np.array(y)\n",
    "y = np.reshape(y, [y.shape[0],1])\n",
    "\n",
    "print(\"x shape :\", x.shape)\n",
    "print(\"y shape :\", y.shape)"
   ]
  },
  {
   "cell_type": "code",
   "execution_count": 9,
   "id": "ffdec14b-9839-4e2a-93f1-c41b4b987152",
   "metadata": {},
   "outputs": [
    {
     "name": "stdout",
     "output_type": "stream",
     "text": [
      "x_train size : 38572\n",
      "x_test size : 9644\n"
     ]
    }
   ],
   "source": [
    "x_train, x_test, y_train, y_test = train_test_split(x, y, test_size=0.2, random_state=42)\n",
    "\n",
    "x_train_size = x_train.shape[0]\n",
    "x_test_size = x_test.shape[0]\n",
    "\n",
    "print(\"x_train size :\", x_train_size)\n",
    "print(\"x_test size :\", x_test_size)"
   ]
  },
  {
   "cell_type": "code",
   "execution_count": 10,
   "id": "22d7590d-055d-4d10-9a49-ad94e5ea32d5",
   "metadata": {},
   "outputs": [],
   "source": [
    "def get_default_device():\n",
    "  # Pick GPU, if available, else CPU\n",
    "  if torch.cuda.is_available():\n",
    "    return torch.device('cuda')\n",
    "  else:\n",
    "    return torch.device('cpu')\n",
    "\n",
    "def to_device(data, device):\n",
    "  # Move tensors to chosen device\n",
    "  if isinstance(data, (list, tuple)):\n",
    "    # If the instance is a list/tuple, transfer each element to chosen device\n",
    "    return [to_device(x, device) for x in data]\n",
    "  return data.to(device, non_blocking=True)\n",
    "  # non_blocking=True doesn't block the execution of the host device until transfers complete\n",
    "\n",
    "class DeviceDataLoader():\n",
    "  # Wrap a dataloader to move data to a device\n",
    "  def __init__(self, dl, device):\n",
    "    self.dl = dl\n",
    "    self.device = device\n",
    "\n",
    "  def __iter__(self):\n",
    "    # Yield a batch of data after moving it to device\n",
    "    for b in self.dl:\n",
    "      yield to_device(b, self.device)\n",
    "\n",
    "  def __len__(self):\n",
    "    # Number of batches\n",
    "    return len(self.dl)"
   ]
  },
  {
   "cell_type": "code",
   "execution_count": 11,
   "id": "4251c547-a53e-4fa2-beab-1617a5cdbeec",
   "metadata": {},
   "outputs": [
    {
     "data": {
      "text/plain": [
       "device(type='cuda')"
      ]
     },
     "execution_count": 11,
     "metadata": {},
     "output_type": "execute_result"
    }
   ],
   "source": [
    "# Get the default device\n",
    "device = get_default_device()\n",
    "device"
   ]
  },
  {
   "cell_type": "code",
   "execution_count": 12,
   "id": "0652fafb-ecf2-42ea-8ade-bf29639c5cf4",
   "metadata": {},
   "outputs": [],
   "source": [
    "x_train_tensor = torch.Tensor(x_train).permute(0, 3, 1, 2)  # Change channels last to channels first\n",
    "y_train_tensor = torch.Tensor(y_train)\n",
    "\n",
    "x_test_tensor = torch.Tensor(x_test).permute(0, 3, 1, 2)  # Change channels last to channels first\n",
    "y_test_tensor = torch.Tensor(y_test)\n",
    "\n",
    "train_dataset = TensorDataset(x_train_tensor, y_train_tensor)\n",
    "test_dataset = TensorDataset(x_test_tensor, y_test_tensor)\n",
    "\n",
    "# Create dataloaders\n",
    "train_loader = DataLoader(train_dataset, batch_size=32, shuffle=True, num_workers=3, pin_memory=True)\n",
    "test_loader = DataLoader(test_dataset, batch_size=32, num_workers=3, pin_memory=True)\n",
    "\n",
    "train_loader = DeviceDataLoader(train_loader, device)\n",
    "test_loader = DeviceDataLoader(test_loader, device)"
   ]
  },
  {
   "cell_type": "markdown",
   "id": "90eb5673-f6a6-4349-b3b5-cfc25e002597",
   "metadata": {},
   "source": [
    "## Model"
   ]
  },
  {
   "cell_type": "code",
   "execution_count": 13,
   "id": "3acc485f-d895-408b-8e6a-0070e482e7b8",
   "metadata": {},
   "outputs": [],
   "source": [
    "class CNNModel(nn.Module):\n",
    "    def __init__(self, height, width):\n",
    "        super(CNNModel, self).__init__()\n",
    "        \n",
    "        self.height = height\n",
    "        self.width = width\n",
    "        \n",
    "        # Input normalization\n",
    "        self.norm = nn.BatchNorm2d(1)\n",
    "\n",
    "        # Convolutional layers\n",
    "        self.features = nn.Sequential(\n",
    "            nn.Conv2d(1, 32, kernel_size=3, stride=1, padding=1),\n",
    "            nn.ReLU(inplace=True),\n",
    "            nn.Conv2d(32, 32, kernel_size=3, stride=1, padding=1),\n",
    "            nn.ReLU(inplace=True),\n",
    "            nn.MaxPool2d(2, 2),\n",
    "            nn.Conv2d(32, 64, kernel_size=3, stride=1, padding=1),\n",
    "            nn.ReLU(inplace=True),\n",
    "            nn.Conv2d(64, 64, kernel_size=3, stride=1, padding=1),\n",
    "            nn.ReLU(inplace=True),\n",
    "            nn.MaxPool2d(2, 2),\n",
    "            nn.Conv2d(64, 128, kernel_size=3, stride=1, padding=1),\n",
    "            nn.ReLU(inplace=True),\n",
    "            nn.MaxPool2d(2, 2),\n",
    "            nn.Conv2d(128, 128, kernel_size=3, stride=1, padding=1),\n",
    "            nn.ReLU(inplace=True),\n",
    "            nn.MaxPool2d(2, 2),\n",
    "        )\n",
    "        \n",
    "        # Fully connected layers\n",
    "        self.fc1 = nn.Linear(128 * (height // 16) * (width // 16), 512)\n",
    "        self.fc2 = nn.Linear(512, 256)\n",
    "        self.fc3 = nn.Linear(256, 64)\n",
    "        self.fc4 = nn.Linear(64, 1)\n",
    "        \n",
    "        # Dropout and Batch normalization\n",
    "        self.dropout = nn.Dropout(0.5)\n",
    "        self.batchnorm1 = nn.BatchNorm1d(512)\n",
    "        self.batchnorm2 = nn.BatchNorm1d(256)\n",
    "        self.batchnorm3 = nn.BatchNorm1d(64)\n",
    "        \n",
    "    def forward(self, x):\n",
    "        x = self.norm(x)\n",
    "        x = self.features(x)\n",
    "        x = x.view(x.size(0), -1)\n",
    "        x = self.dropout(x)\n",
    "        x = self.batchnorm1(self.fc1(x))\n",
    "        x = self.batchnorm2(self.fc2(x))\n",
    "        x = self.batchnorm3(self.fc3(x))\n",
    "        x = self.fc4(x)\n",
    "        return x"
   ]
  },
  {
   "cell_type": "code",
   "execution_count": 14,
   "id": "d667072a-3083-4f5b-8699-2e1080e78883",
   "metadata": {},
   "outputs": [],
   "source": [
    "model = CNNModel(IMAGE_HEIGHT, IMAGE_WIDTH)"
   ]
  },
  {
   "cell_type": "code",
   "execution_count": 15,
   "id": "d4101714-fcee-4624-9422-f72155956c06",
   "metadata": {},
   "outputs": [],
   "source": [
    "model =  model.to(device)\n",
    "if device == 'cuda':\n",
    "  model = torch.nn.DataParallel(model)\n",
    "  cudnn.benchmark = True"
   ]
  },
  {
   "cell_type": "code",
   "execution_count": 16,
   "id": "888758e1-5fb6-474c-905a-2e5f4d3628a5",
   "metadata": {},
   "outputs": [
    {
     "name": "stdout",
     "output_type": "stream",
     "text": [
      "=================================================================\n",
      "Layer (type:depth-idx)                   Param #\n",
      "=================================================================\n",
      "├─BatchNorm2d: 1-1                       2\n",
      "├─Sequential: 1-2                        --\n",
      "|    └─Conv2d: 2-1                       320\n",
      "|    └─ReLU: 2-2                         --\n",
      "|    └─Conv2d: 2-3                       9,248\n",
      "|    └─ReLU: 2-4                         --\n",
      "|    └─MaxPool2d: 2-5                    --\n",
      "|    └─Conv2d: 2-6                       18,496\n",
      "|    └─ReLU: 2-7                         --\n",
      "|    └─Conv2d: 2-8                       36,928\n",
      "|    └─ReLU: 2-9                         --\n",
      "|    └─MaxPool2d: 2-10                   --\n",
      "|    └─Conv2d: 2-11                      73,856\n",
      "|    └─ReLU: 2-12                        --\n",
      "|    └─MaxPool2d: 2-13                   --\n",
      "|    └─Conv2d: 2-14                      147,584\n",
      "|    └─ReLU: 2-15                        --\n",
      "|    └─MaxPool2d: 2-16                   --\n",
      "├─Linear: 1-3                            2,359,808\n",
      "├─Linear: 1-4                            131,328\n",
      "├─Linear: 1-5                            16,448\n",
      "├─Linear: 1-6                            65\n",
      "├─Dropout: 1-7                           --\n",
      "├─BatchNorm1d: 1-8                       1,024\n",
      "├─BatchNorm1d: 1-9                       512\n",
      "├─BatchNorm1d: 1-10                      128\n",
      "=================================================================\n",
      "Total params: 2,795,747\n",
      "Trainable params: 2,795,747\n",
      "Non-trainable params: 0\n",
      "=================================================================\n",
      "=================================================================\n",
      "Layer (type:depth-idx)                   Param #\n",
      "=================================================================\n",
      "├─BatchNorm2d: 1-1                       2\n",
      "├─Sequential: 1-2                        --\n",
      "|    └─Conv2d: 2-1                       320\n",
      "|    └─ReLU: 2-2                         --\n",
      "|    └─Conv2d: 2-3                       9,248\n",
      "|    └─ReLU: 2-4                         --\n",
      "|    └─MaxPool2d: 2-5                    --\n",
      "|    └─Conv2d: 2-6                       18,496\n",
      "|    └─ReLU: 2-7                         --\n",
      "|    └─Conv2d: 2-8                       36,928\n",
      "|    └─ReLU: 2-9                         --\n",
      "|    └─MaxPool2d: 2-10                   --\n",
      "|    └─Conv2d: 2-11                      73,856\n",
      "|    └─ReLU: 2-12                        --\n",
      "|    └─MaxPool2d: 2-13                   --\n",
      "|    └─Conv2d: 2-14                      147,584\n",
      "|    └─ReLU: 2-15                        --\n",
      "|    └─MaxPool2d: 2-16                   --\n",
      "├─Linear: 1-3                            2,359,808\n",
      "├─Linear: 1-4                            131,328\n",
      "├─Linear: 1-5                            16,448\n",
      "├─Linear: 1-6                            65\n",
      "├─Dropout: 1-7                           --\n",
      "├─BatchNorm1d: 1-8                       1,024\n",
      "├─BatchNorm1d: 1-9                       512\n",
      "├─BatchNorm1d: 1-10                      128\n",
      "=================================================================\n",
      "Total params: 2,795,747\n",
      "Trainable params: 2,795,747\n",
      "Non-trainable params: 0\n",
      "=================================================================\n"
     ]
    }
   ],
   "source": [
    "print(summary(model, input_size=(1, IMAGE_HEIGHT, IMAGE_WIDTH)))"
   ]
  },
  {
   "cell_type": "code",
   "execution_count": 17,
   "id": "062e27c4-b9e1-4253-879a-666ae81eec17",
   "metadata": {},
   "outputs": [],
   "source": [
    "lr = 0.0001\n",
    "\n",
    "criterion = nn.MSELoss()\n",
    "optimizer = optim.Adam(model.parameters(), lr=lr)"
   ]
  },
  {
   "cell_type": "code",
   "execution_count": 18,
   "id": "399aa31b-4edb-4b9f-b931-d4a985fb80f3",
   "metadata": {},
   "outputs": [],
   "source": [
    "class VisualBackpropWrapper():\n",
    "    \"\"\"\n",
    "        Wraps the model and gives ability to extract importance masks\n",
    "        for feature layers in convolutional networks.\n",
    "        Implements idea from article: https://arxiv.org/pdf/1611.05418.pdf\n",
    "        Wrapped model must have nn.Sequential fileld named \"features\" with all features layers\n",
    "    \"\"\"\n",
    "    def __init__(self, model, device):\n",
    "        self.model = model\n",
    "        self.device = device\n",
    "        self.initialize_modules()\n",
    "\n",
    "    \"\"\"\n",
    "        Initializes self.modules and its params from net structure\n",
    "    \"\"\"\n",
    "    def initialize_modules(self):\n",
    "        self.modules = []\n",
    "        for _, module in self.model.features._modules.items():\n",
    "            transformation_params = None\n",
    "            if 'Conv2d' in str(module):\n",
    "                transformation_params = (module.kernel_size, module.stride, module.padding)\n",
    "            if 'Pool' in str(module):\n",
    "                transformation_params = ((module.kernel_size, module.kernel_size), \\\n",
    "                                        (module.stride, module.stride), \\\n",
    "                                        (module.padding, module.padding))\n",
    "            self.modules.append((module, transformation_params))\n",
    "\n",
    "    \"\"\"\n",
    "        Return relevancy masks for batch of images computed by VisualBackprop\n",
    "    \"\"\"\n",
    "    def get_masks_for_batch(self, x_batch):\n",
    "        all_outputs = []\n",
    "        x_batch = x_batch.to(self.device)\n",
    "        for module, transformation_params in self.modules:\n",
    "            x_batch = module(x_batch)\n",
    "            averaged_maps = torch.mean(x_batch, 1, True)\n",
    "            flatten_maps = averaged_maps.view(averaged_maps.size(0), -1)\n",
    "            maps_max = torch.max(flatten_maps, 1, True)[0].unsqueeze(2).unsqueeze(3)\n",
    "            maps_min = torch.min(flatten_maps, 1, True)[0].unsqueeze(2).unsqueeze(3)\n",
    "            averaged_maps = (averaged_maps - maps_min) / (maps_max - maps_min + 1e-6)\n",
    "            if transformation_params:\n",
    "                all_outputs.append((averaged_maps, transformation_params))\n",
    "\n",
    "        last_result = None\n",
    "        for maps, (kernel_size, stride, padding) in reversed(all_outputs):\n",
    "            if last_result is None:\n",
    "                last_result = maps\n",
    "            else:\n",
    "                if last_result.shape[2] > maps.shape[2]:\n",
    "                    last_result = last_result[:, :, :maps.shape[2], :]\n",
    "                elif last_result.shape[2] < maps.shape[2]:\n",
    "                    maps = maps[:, :, :last_result.shape[2], :]\n",
    "                \n",
    "                if last_result.shape[3] > maps.shape[3]:\n",
    "                    last_result = last_result[:, :, :, :maps.shape[3]]\n",
    "                elif last_result.shape[3] < maps.shape[3]:\n",
    "                    maps = maps[:, :, :, :last_result.shape[3]]\n",
    "                last_result = last_result.mul(maps)\n",
    "            last_result = F.conv_transpose2d(\n",
    "                last_result, \n",
    "                torch.ones(1, 1, kernel_size[0], kernel_size[1], device=self.device), \n",
    "                stride=stride, \n",
    "                output_padding=(0, 0)\n",
    "            )\n",
    "        return F.relu(last_result)"
   ]
  },
  {
   "cell_type": "code",
   "execution_count": 19,
   "id": "1e6264f7-cbff-4dc0-9397-d2919c716359",
   "metadata": {},
   "outputs": [],
   "source": [
    "# Training Helper Function to Format Time\n",
    "def format_time(seconds):\n",
    "  days = int(seconds / 3600/24)\n",
    "  seconds = seconds - days*3600*24\n",
    "  hours = int(seconds / 3600)\n",
    "  seconds = seconds - hours*3600\n",
    "  minutes = int(seconds / 60)\n",
    "  seconds = seconds - minutes*60\n",
    "  secondsf = int(seconds)\n",
    "  seconds = seconds - secondsf\n",
    "  millis = int(seconds*1000)\n",
    "\n",
    "  f = ''\n",
    "  i = 1\n",
    "  if days > 0:\n",
    "    f += str(days) + 'D'\n",
    "    i += 1\n",
    "  if hours > 0 and i <= 2:\n",
    "    f += str(hours) + 'h'\n",
    "    i += 1\n",
    "  if minutes > 0 and i <= 2:\n",
    "    f += str(minutes) + 'm'\n",
    "    i += 1\n",
    "  if secondsf > 0 and i <= 2:\n",
    "    f += str(secondsf) + 's'\n",
    "    i += 1\n",
    "  if millis > 0 and i <= 2:\n",
    "    f += str(millis) + 'ms'\n",
    "    i += 1\n",
    "  if f == '':\n",
    "    f = '0ms'\n",
    "  return f"
   ]
  },
  {
   "cell_type": "code",
   "execution_count": 20,
   "id": "3074882d-549a-4b64-baae-36e243967fdd",
   "metadata": {},
   "outputs": [],
   "source": [
    "def visualize_images_with_masks(images, masks, text, outputs, labels, figsize=(20, 20), columns=3):\n",
    "    rows = (images.shape[0] + columns - 1) // columns\n",
    "    \n",
    "    fig, axs = plt.subplots(rows, columns, figsize=figsize)\n",
    "    fig.suptitle(text, fontsize=14, fontweight='bold')\n",
    "    fig.tight_layout(pad=5.0)\n",
    "    \n",
    "    masks_np = masks.detach().cpu().numpy()\n",
    "    red_mask = np.zeros((masks_np.shape[0], masks_np.shape[2], masks_np.shape[3], 4))\n",
    "    red_mask[:,:,:,0] = np.squeeze(masks_np, 1)\n",
    "    red_mask[:,:,:,3] = red_mask[:,:,:,0]\n",
    "\n",
    "    count = 0\n",
    "    \n",
    "    for i in range(rows):\n",
    "        for j in range(columns):\n",
    "            axs[i][j].imshow(images[count][0].cpu(), cmap='gray')\n",
    "            axs[i][j].imshow(red_mask[count] / np.max(red_mask[count]))\n",
    "            axs[i][j].get_xaxis().set_ticks([])\n",
    "            axs[i][j].get_yaxis().set_ticks([])\n",
    "            title = f\"Predicted Steering: {outputs[count].item():.4f} | Actual Steering: {labels[count].item():.4f}\"\n",
    "            axs[i][j].set_title(title)\n",
    "            count += 1\n",
    "\n",
    "def train_with_logging(model, device, train_loader, optimizer, total_num_iterations, display_samples, display_labels, save_dir='./results/'):\n",
    "    train_losses = []\n",
    "    test_losses = []\n",
    "    \n",
    "    num_iterations = 0\n",
    "    while(num_iterations < total_num_iterations):\n",
    "        start_time = time.time()\n",
    "        model.train()\n",
    "        train_running_loss = 0.0\n",
    "        \n",
    "        for inputs, labels in train_loader:\n",
    "            optimizer.zero_grad()\n",
    "            outputs = model(inputs)\n",
    "            loss = criterion(outputs, labels)\n",
    "            loss.backward()\n",
    "            optimizer.step()\n",
    "            train_running_loss += loss.item() * inputs.size(0)\n",
    "            \n",
    "        train_loss = train_running_loss / len(train_dataset)\n",
    "        train_losses.append(train_loss)\n",
    "    \n",
    "        model.eval()\n",
    "        test_running_loss = 0.0\n",
    "        with torch.no_grad():\n",
    "            for inputs, labels in test_loader:\n",
    "                outputs = model(inputs)\n",
    "                loss = criterion(outputs, labels)\n",
    "                test_running_loss += loss.item() * inputs.size(0)\n",
    "\n",
    "            test_loss = test_running_loss / len(test_dataset)\n",
    "            test_losses.append(test_loss)\n",
    "\n",
    "            outputs = model(display_samples)\n",
    "            visual_backprop = VisualBackpropWrapper(model, device)\n",
    "            display_masks = visual_backprop.get_masks_for_batch(display_samples)\n",
    "            visualize_images_with_masks(display_samples, display_masks, f\"Iteration {num_iterations+1}\", outputs, display_labels)\n",
    "            plt.savefig(os.path.join(save_dir, f\"{num_iterations+1}.jpg\"))\n",
    "            plt.close()\n",
    "\n",
    "        cur_time = time.time()\n",
    "        epoch_time = cur_time - start_time\n",
    "\n",
    "        print(f'Epoch [{num_iterations+1}/{total_num_iterations}] | Train Loss: {train_loss:.4f} | Test Loss: {test_loss:.4f}')\n",
    "        print(f'Time Taken : {format_time(epoch_time)}')\n",
    "        print('')\n",
    "        \n",
    "        num_iterations += 1\n",
    "    return train_losses, test_losses"
   ]
  },
  {
   "cell_type": "code",
   "execution_count": 21,
   "id": "d362124d-689d-4a25-ada4-ef2ba0612afa",
   "metadata": {},
   "outputs": [],
   "source": [
    "test_batch = None\n",
    "test_label = None\n",
    "\n",
    "for x in test_loader:\n",
    "    test_batch = x[0]\n",
    "    test_label = x[1]\n",
    "    random_integer = random.randint(0, len(test_loader))\n",
    "    if random_integer <= len(test_loader) // 2:\n",
    "        break\n",
    "\n",
    "test_batch = test_batch[:9]\n",
    "test_label = test_label[:9]"
   ]
  },
  {
   "cell_type": "code",
   "execution_count": 22,
   "id": "ece50ffc-d442-4c70-a21f-b6aacf51f449",
   "metadata": {},
   "outputs": [
    {
     "name": "stdout",
     "output_type": "stream",
     "text": [
      "Epoch [1/20] | Train Loss: 0.0272 | Test Loss: 0.0106\n",
      "Time Taken : 37s559ms\n",
      "\n",
      "Epoch [2/20] | Train Loss: 0.0128 | Test Loss: 0.0104\n",
      "Time Taken : 31s290ms\n",
      "\n",
      "Epoch [3/20] | Train Loss: 0.0113 | Test Loss: 0.0103\n",
      "Time Taken : 19s960ms\n",
      "\n",
      "Epoch [4/20] | Train Loss: 0.0108 | Test Loss: 0.0102\n",
      "Time Taken : 46s369ms\n",
      "\n",
      "Epoch [5/20] | Train Loss: 0.0106 | Test Loss: 0.0093\n",
      "Time Taken : 29s258ms\n",
      "\n",
      "Epoch [6/20] | Train Loss: 0.0104 | Test Loss: 0.0105\n",
      "Time Taken : 41s970ms\n",
      "\n",
      "Epoch [7/20] | Train Loss: 0.0101 | Test Loss: 0.0091\n",
      "Time Taken : 20s557ms\n",
      "\n",
      "Epoch [8/20] | Train Loss: 0.0097 | Test Loss: 0.0089\n",
      "Time Taken : 27s39ms\n",
      "\n",
      "Epoch [9/20] | Train Loss: 0.0097 | Test Loss: 0.0088\n",
      "Time Taken : 33s798ms\n",
      "\n",
      "Epoch [10/20] | Train Loss: 0.0094 | Test Loss: 0.0085\n",
      "Time Taken : 19s972ms\n",
      "\n",
      "Epoch [11/20] | Train Loss: 0.0092 | Test Loss: 0.0089\n",
      "Time Taken : 20s51ms\n",
      "\n",
      "Epoch [12/20] | Train Loss: 0.0090 | Test Loss: 0.0087\n",
      "Time Taken : 42s312ms\n",
      "\n",
      "Epoch [13/20] | Train Loss: 0.0087 | Test Loss: 0.0084\n",
      "Time Taken : 34s127ms\n",
      "\n",
      "Epoch [14/20] | Train Loss: 0.0084 | Test Loss: 0.0080\n",
      "Time Taken : 22s405ms\n",
      "\n",
      "Epoch [15/20] | Train Loss: 0.0082 | Test Loss: 0.0079\n",
      "Time Taken : 24s91ms\n",
      "\n",
      "Epoch [16/20] | Train Loss: 0.0078 | Test Loss: 0.0083\n",
      "Time Taken : 31s681ms\n",
      "\n",
      "Epoch [17/20] | Train Loss: 0.0075 | Test Loss: 0.0081\n",
      "Time Taken : 36s419ms\n",
      "\n",
      "Epoch [18/20] | Train Loss: 0.0073 | Test Loss: 0.0075\n",
      "Time Taken : 19s982ms\n",
      "\n",
      "Epoch [19/20] | Train Loss: 0.0070 | Test Loss: 0.0082\n",
      "Time Taken : 35s53ms\n",
      "\n",
      "Epoch [20/20] | Train Loss: 0.0068 | Test Loss: 0.0076\n",
      "Time Taken : 20s26ms\n",
      "\n"
     ]
    }
   ],
   "source": [
    "train_losses, test_losses = train_with_logging(model, device, train_loader, optimizer, 20, test_batch, test_label)"
   ]
  },
  {
   "cell_type": "code",
   "execution_count": 23,
   "id": "ff640f94-c1f3-46e0-a617-1c97d48ee590",
   "metadata": {},
   "outputs": [
    {
     "data": {
      "text/plain": [
       "Text(0.5, 1.0, 'Loss vs. No. of epochs')"
      ]
     },
     "execution_count": 23,
     "metadata": {},
     "output_type": "execute_result"
    },
    {
     "data": {
      "image/png": "[encoded data removed]",
      "text/plain": [
       "<Figure size 640x480 with 1 Axes>"
      ]
     },
     "metadata": {},
     "output_type": "display_data"
    }
   ],
   "source": [
    "plt.plot(train_losses, label='Train Losses')\n",
    "plt.plot(test_losses, label='Test Losses')\n",
    "plt.xlabel('Epochs')\n",
    "plt.ylabel('Loss')\n",
    "plt.legend()\n",
    "plt.grid(True)\n",
    "plt.title('Loss vs. No. of epochs')"
   ]
  },
  {
   "cell_type": "code",
   "execution_count": 25,
   "id": "546564e5-1219-4cf7-bc8d-5bec3efec6d3",
   "metadata": {},
   "outputs": [],
   "source": [
    "# Saving model state\n",
    "state = {\n",
    "        'model': model.state_dict(),\n",
    "        'train_losses': train_losses,\n",
    "        'test_losses': test_losses,\n",
    "    }\n",
    "\n",
    "torch.save(state, 'traditional_approach_visual.pth')"
   ]
  },
  {
   "cell_type": "code",
   "execution_count": null,
   "id": "d76e0353-2dac-4cc8-a2d6-2633e112c666",
   "metadata": {},
   "outputs": [],
   "source": []
  }
 ],
 "metadata": {
  "kernelspec": {
   "display_name": "Python 3 (ipykernel)",
   "language": "python",
   "name": "python3"
  },
  "language_info": {
   "codemirror_mode": {
    "name": "ipython",
    "version": 3
   },
   "file_extension": ".py",
   "mimetype": "text/x-python",
   "name": "python",
   "nbconvert_exporter": "python",
   "pygments_lexer": "ipython3",
   "version": "3.11.7"
  }
 },
 "nbformat": 4,
 "nbformat_minor": 5
}
