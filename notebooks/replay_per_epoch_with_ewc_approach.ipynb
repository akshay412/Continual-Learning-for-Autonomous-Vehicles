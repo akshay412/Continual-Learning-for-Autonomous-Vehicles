{
 "cells": [
  {
   "cell_type": "markdown",
   "id": "ad05a95c-056d-4bca-aa1a-7380e679871f",
   "metadata": {},
   "source": [
    "# Replay per Epoch with EWC Approach for Continual Learning\n",
    "\n",
    "In this notebook, we explore a replay per epoch with elastic weight consolidation (EWC) approach for our autonomous driving setting."
   ]
  },
  {
   "cell_type": "code",
   "execution_count": 1,
   "id": "d9497286-a482-4f01-9931-f6e600a9e33d",
   "metadata": {},
   "outputs": [],
   "source": [
    "import os\n",
    "import time\n",
    "import random\n",
    "import numpy as np\n",
    "import pandas as pd\n",
    "import matplotlib.pyplot as plt\n",
    "import matplotlib.image as mpimg\n",
    "%matplotlib inline\n",
    "\n",
    "import cv2\n",
    "import ntpath\n",
    "\n",
    "from sklearn.model_selection import train_test_split\n",
    "\n",
    "import torch\n",
    "import torch.nn as nn\n",
    "import torch.optim as optim\n",
    "from torch.utils.data import DataLoader, TensorDataset\n",
    "from torchsummary import summary\n",
    "\n",
    "import warnings\n",
    "warnings.filterwarnings(\"ignore\")"
   ]
  },
  {
   "cell_type": "markdown",
   "id": "f5b825d9-9d0b-4881-8c52-d56ddf829551",
   "metadata": {},
   "source": [
    "## Data Pre-Processing"
   ]
  },
  {
   "cell_type": "code",
   "execution_count": 2,
   "id": "1725fb3d-a1ab-42d3-ac5b-120ba03cbd5d",
   "metadata": {},
   "outputs": [],
   "source": [
    "data_path = 'data'\n",
    "path = os.path.join(data_path,'driving_log.csv')\n",
    "data = pd.read_csv(path)"
   ]
  },
  {
   "cell_type": "code",
   "execution_count": 3,
   "id": "d5ad16ab-635f-456c-8fc4-45f7701fe11a",
   "metadata": {},
   "outputs": [],
   "source": [
    "def path_leaf(path):\n",
    "  head, tail = ntpath.split(path)\n",
    "  return tail\n",
    "\n",
    "data['center'] = data['center'].apply(path_leaf)\n",
    "data['left'] = data['left'].apply(path_leaf)\n",
    "data['right'] = data['right'].apply(path_leaf)"
   ]
  },
  {
   "cell_type": "code",
   "execution_count": 4,
   "id": "371db156-fcc4-4727-a131-58fd12840de5",
   "metadata": {},
   "outputs": [
    {
     "name": "stdout",
     "output_type": "stream",
     "text": [
      "Total Number of Samples : 8036\n"
     ]
    }
   ],
   "source": [
    "center = data[data.columns[0]].values\n",
    "left = data[data.columns[1]].values\n",
    "right = data[data.columns[2]].values\n",
    "steering = data[data.columns[3]].values\n",
    "\n",
    "no_of_examples = len(steering)\n",
    "print(\"Total Number of Samples :\", no_of_examples)"
   ]
  },
  {
   "cell_type": "code",
   "execution_count": 5,
   "id": "d5f857b0-a0ca-4acf-aef3-01660a4200c8",
   "metadata": {},
   "outputs": [],
   "source": [
    "image_path = 'IMG'\n",
    "image_path = os.path.join(data_path, image_path)"
   ]
  },
  {
   "cell_type": "code",
   "execution_count": 6,
   "id": "ef61d9ba-517b-4fb3-a777-9a1bff93f0e0",
   "metadata": {},
   "outputs": [],
   "source": [
    "def random_flip(image, steering_angle):\n",
    "    image = cv2.flip(image, 1)\n",
    "    steering_angle = -steering_angle\n",
    "    return image, steering_angle"
   ]
  },
  {
   "cell_type": "code",
   "execution_count": 7,
   "id": "5088954f-b7b3-49d1-86a6-b20cf3dae3d2",
   "metadata": {},
   "outputs": [
    {
     "name": "stdout",
     "output_type": "stream",
     "text": [
      "x shape : (48216, 100, 100, 1)\n",
      "y shape : (48216, 1)\n"
     ]
    }
   ],
   "source": [
    "x = []\n",
    "y = []\n",
    "\n",
    "steer_adjust_factor = 0.2\n",
    "IMAGE_HEIGHT = 100 \n",
    "IMAGE_WIDTH = 100\n",
    "\n",
    "for i in range(no_of_examples):\n",
    "    for choice in range(3):\n",
    "        if choice == 0: # Center Image\n",
    "            img = cv2.imread(os.path.join(image_path, center[i]))\n",
    "            steering_angle = steering[i]\n",
    "        elif choice == 1: # Left Image\n",
    "            img = cv2.imread(os.path.join(image_path, left[i]))\n",
    "            steering_angle = steering[i] + steer_adjust_factor\n",
    "        elif choice == 2: # Right Image\n",
    "            img = cv2.imread(os.path.join(image_path, right[i]))\n",
    "            steering_angle = steering[i] - steer_adjust_factor\n",
    "        \n",
    "        img = cv2.cvtColor(img, cv2.COLOR_RGB2HSV)[:,:,1]\n",
    "        img = img[50:,:]\n",
    "        img = cv2.resize(img, (IMAGE_WIDTH, IMAGE_HEIGHT))\n",
    "        \n",
    "        x.append(img)\n",
    "        y.append(steering_angle)\n",
    "        \n",
    "        flipped_img, flipped_steering_angle = random_flip(img, steering_angle)\n",
    "                \n",
    "        x.append(flipped_img)\n",
    "        y.append(flipped_steering_angle)\n",
    "\n",
    "x = np.array(x)\n",
    "x = np.reshape(x, [x.shape[0], x.shape[1], x.shape[2], 1])\n",
    "\n",
    "y = np.array(y)\n",
    "y = np.reshape(y, [y.shape[0],1])\n",
    "\n",
    "print(\"x shape :\", x.shape)\n",
    "print(\"y shape :\", y.shape)"
   ]
  },
  {
   "cell_type": "code",
   "execution_count": 8,
   "id": "b1065080-2fe4-4c7d-94ed-b04c820bb4c8",
   "metadata": {},
   "outputs": [
    {
     "name": "stdout",
     "output_type": "stream",
     "text": [
      "x_train size : 38572\n",
      "x_test size : 9644\n"
     ]
    }
   ],
   "source": [
    "x_train, x_test, y_train, y_test = train_test_split(x, y, test_size=0.2, random_state=42)\n",
    "\n",
    "x_train_size = x_train.shape[0]\n",
    "x_test_size = x_test.shape[0]\n",
    "\n",
    "print(\"x_train size :\", x_train_size)\n",
    "print(\"x_test size :\", x_test_size)"
   ]
  },
  {
   "cell_type": "code",
   "execution_count": 9,
   "id": "ceff394e-b5fd-458a-935c-2a948d375874",
   "metadata": {},
   "outputs": [],
   "source": [
    "def get_default_device():\n",
    "  # Pick GPU, if available, else CPU\n",
    "  if torch.cuda.is_available():\n",
    "    return torch.device('cuda')\n",
    "  else:\n",
    "    return torch.device('cpu')\n",
    "\n",
    "def to_device(data, device):\n",
    "  # Move tensors to chosen device\n",
    "  if isinstance(data, (list, tuple)):\n",
    "    # If the instance is a list/tuple, transfer each element to chosen device\n",
    "    return [to_device(x, device) for x in data]\n",
    "  return data.to(device, non_blocking=True)\n",
    "  # non_blocking=True doesn't block the execution of the host device until transfers complete\n",
    "\n",
    "class DeviceDataLoader():\n",
    "  # Wrap a dataloader to move data to a device\n",
    "  def __init__(self, dl, device):\n",
    "    self.dl = dl\n",
    "    self.device = device\n",
    "    self.dataset = dl.dataset\n",
    "\n",
    "  def __iter__(self):\n",
    "    # Yield a batch of data after moving it to device\n",
    "    for b in self.dl:\n",
    "      yield to_device(b, self.device)\n",
    "\n",
    "  def __len__(self):\n",
    "    # Number of batches\n",
    "    return len(self.dl)"
   ]
  },
  {
   "cell_type": "code",
   "execution_count": 10,
   "id": "c650c490-c917-45f6-a7b0-c23e00711cea",
   "metadata": {},
   "outputs": [
    {
     "data": {
      "text/plain": [
       "device(type='cuda')"
      ]
     },
     "execution_count": 10,
     "metadata": {},
     "output_type": "execute_result"
    }
   ],
   "source": [
    "# Get the default device\n",
    "device = get_default_device()\n",
    "device"
   ]
  },
  {
   "cell_type": "markdown",
   "id": "7fd6edd6-67e1-4a3c-9aa5-3273f13b42d3",
   "metadata": {},
   "source": [
    "We split the dataset into different driving contexts"
   ]
  },
  {
   "cell_type": "code",
   "execution_count": 11,
   "id": "b8d56389-3bcd-4e0f-9cc5-06a4b8d36752",
   "metadata": {},
   "outputs": [],
   "source": [
    "# Driving Straight Context on Train Dataset\n",
    "train_straight_idxs = ((y_train <= 0.2) & (y_train >= -0.2)).nonzero()[0].squeeze()\n",
    "\n",
    "# Driving on Left Curves Context on Train Dataset\n",
    "train_left_idxs = ((y_train < -0.2) & (y_train >= -0.5)).nonzero()[0].squeeze()\n",
    "\n",
    "# Driving on Right Curves Context on Train Dataset\n",
    "train_right_idxs = ((y_train > 0.2 )& (y_train <= 0.5)).nonzero()[0].squeeze()\n",
    "\n",
    "# Driving on Left Turns Context on Train Dataset\n",
    "train_sharp_left_idxs = (y_train < -0.5).nonzero()[0].squeeze()\n",
    "\n",
    "# Driving on Right Turns Context on Train Dataset\n",
    "train_sharp_right_idxs = (y_train > 0.5).nonzero()[0].squeeze()"
   ]
  },
  {
   "cell_type": "code",
   "execution_count": 12,
   "id": "205952a7-a20a-4a37-8cda-7b598e0fc799",
   "metadata": {},
   "outputs": [],
   "source": [
    "# Driving Straight Context on Test Dataset\n",
    "test_straight_idxs = ((y_test <= 0.2) & (y_test >= -0.2)).nonzero()[0].squeeze()\n",
    "\n",
    "# Driving on Left Curves Context on Test Dataset\n",
    "test_left_idxs = ((y_test < -0.2) & (y_test >= -0.5)).nonzero()[0].squeeze()\n",
    "\n",
    "# Driving on Right Curves Context on Test Dataset\n",
    "test_right_idxs = ((y_test > 0.2 )& (y_test <= 0.5)).nonzero()[0].squeeze()\n",
    "\n",
    "# Driving on Left Turns Context on Test Dataset\n",
    "test_sharp_left_idxs = (y_test < -0.5).nonzero()[0].squeeze()\n",
    "\n",
    "# Driving on Right Turns Context on Test Dataset\n",
    "test_sharp_right_idxs = (y_test > 0.5).nonzero()[0].squeeze()"
   ]
  },
  {
   "cell_type": "code",
   "execution_count": 13,
   "id": "bba4f0d6-43d1-4628-99ec-a3af1ec36e74",
   "metadata": {},
   "outputs": [],
   "source": [
    "train_contexts = [train_straight_idxs, train_left_idxs, train_right_idxs, train_sharp_left_idxs, train_sharp_right_idxs]\n",
    "test_contexts = [test_straight_idxs, test_left_idxs, test_right_idxs, test_sharp_left_idxs, test_sharp_right_idxs]"
   ]
  },
  {
   "cell_type": "code",
   "execution_count": 14,
   "id": "c8162400-cce5-406b-b1a9-4ad36af0b781",
   "metadata": {},
   "outputs": [],
   "source": [
    "x_train_tensor = torch.Tensor(x_train).permute(0, 3, 1, 2)  # Change channels last to channels first\n",
    "y_train_tensor = torch.Tensor(y_train)\n",
    "\n",
    "x_test_tensor = torch.Tensor(x_test).permute(0, 3, 1, 2)  # Change channels last to channels first\n",
    "y_test_tensor = torch.Tensor(y_test)"
   ]
  },
  {
   "cell_type": "markdown",
   "id": "4774d1b0-afad-4fc1-a1ff-cd385e4cea72",
   "metadata": {},
   "source": [
    "## Model"
   ]
  },
  {
   "cell_type": "code",
   "execution_count": 15,
   "id": "553cd2ea-0dbe-4c1a-a7a9-41800b40d3b7",
   "metadata": {},
   "outputs": [],
   "source": [
    "class CNNModel(nn.Module):\n",
    "    def __init__(self, height, width):\n",
    "        super(CNNModel, self).__init__()\n",
    "        \n",
    "        self.height = height\n",
    "        self.width = width\n",
    "        \n",
    "        # Input normalization\n",
    "        self.norm = nn.BatchNorm2d(1)\n",
    "        \n",
    "        # Convolutional layers\n",
    "        self.conv1 = nn.Conv2d(1, 32, kernel_size=3, stride=1, padding=1)\n",
    "        self.conv2 = nn.Conv2d(32, 32, kernel_size=3, stride=1, padding=1)\n",
    "        self.conv3 = nn.Conv2d(32, 64, kernel_size=3, stride=1, padding=1)\n",
    "        self.conv4 = nn.Conv2d(64, 64, kernel_size=3, stride=1, padding=1)        \n",
    "        self.conv5 = nn.Conv2d(64, 128, kernel_size=3, stride=1, padding=1)\n",
    "        self.conv6 = nn.Conv2d(128, 128, kernel_size=3, stride=1, padding=1)\n",
    "        \n",
    "        # Pooling layer\n",
    "        self.pool = nn.MaxPool2d(2, 2)\n",
    "        \n",
    "        # Fully connected layers\n",
    "        self.fc1 = nn.Linear(128 * (height // 16) * (width // 16), 512)\n",
    "        self.fc2 = nn.Linear(512, 256)\n",
    "        self.fc3 = nn.Linear(256, 64)\n",
    "        self.fc4 = nn.Linear(64, 1)\n",
    "        \n",
    "        # Dropout and Batch normalization\n",
    "        self.dropout = nn.Dropout(0.5)\n",
    "        self.batchnorm1 = nn.BatchNorm1d(512)\n",
    "        self.batchnorm2 = nn.BatchNorm1d(256)\n",
    "        self.batchnorm3 = nn.BatchNorm1d(64)\n",
    "        \n",
    "    def forward(self, x):\n",
    "        x = self.norm(x)\n",
    "        x = self.conv1(x)\n",
    "        x = nn.ReLU()(x)\n",
    "        x = self.conv2(x)\n",
    "        x = nn.ReLU()(x)\n",
    "        x = self.pool(x)\n",
    "        x = self.conv3(x)\n",
    "        x = nn.ReLU()(x)\n",
    "        x = self.conv4(x)\n",
    "        x = nn.ReLU()(x)\n",
    "        x = self.pool(x)\n",
    "        x = self.conv5(x)\n",
    "        x = nn.ReLU()(x)\n",
    "        x = self.pool(x)\n",
    "        x = self.conv6(x)\n",
    "        x = nn.ReLU()(x)\n",
    "        x = self.pool(x)\n",
    "        x = x.view(x.size(0), -1)\n",
    "        x = self.dropout(x)\n",
    "        x = self.batchnorm1(self.fc1(x))\n",
    "        x = self.batchnorm2(self.fc2(x))\n",
    "        x = self.batchnorm3(self.fc3(x))\n",
    "        x = self.fc4(x)\n",
    "        return x"
   ]
  },
  {
   "cell_type": "code",
   "execution_count": 16,
   "id": "69d15db7-a525-4a4f-9b6a-b077d5a36885",
   "metadata": {},
   "outputs": [],
   "source": [
    "model = CNNModel(IMAGE_HEIGHT, IMAGE_WIDTH)"
   ]
  },
  {
   "cell_type": "code",
   "execution_count": 17,
   "id": "46c6eced-f597-42d5-bda6-2aa2043f42e2",
   "metadata": {},
   "outputs": [],
   "source": [
    "model =  model.to(device)\n",
    "if device == 'cuda':\n",
    "  model = torch.nn.DataParallel(model)\n",
    "  cudnn.benchmark = True"
   ]
  },
  {
   "cell_type": "code",
   "execution_count": 18,
   "id": "08ecc547-552c-483a-a3b3-2d1856a4e4f3",
   "metadata": {},
   "outputs": [
    {
     "name": "stdout",
     "output_type": "stream",
     "text": [
      "=================================================================\n",
      "Layer (type:depth-idx)                   Param #\n",
      "=================================================================\n",
      "├─BatchNorm2d: 1-1                       2\n",
      "├─Conv2d: 1-2                            320\n",
      "├─Conv2d: 1-3                            9,248\n",
      "├─Conv2d: 1-4                            18,496\n",
      "├─Conv2d: 1-5                            36,928\n",
      "├─Conv2d: 1-6                            73,856\n",
      "├─Conv2d: 1-7                            147,584\n",
      "├─MaxPool2d: 1-8                         --\n",
      "├─Linear: 1-9                            2,359,808\n",
      "├─Linear: 1-10                           131,328\n",
      "├─Linear: 1-11                           16,448\n",
      "├─Linear: 1-12                           65\n",
      "├─Dropout: 1-13                          --\n",
      "├─BatchNorm1d: 1-14                      1,024\n",
      "├─BatchNorm1d: 1-15                      512\n",
      "├─BatchNorm1d: 1-16                      128\n",
      "=================================================================\n",
      "Total params: 2,795,747\n",
      "Trainable params: 2,795,747\n",
      "Non-trainable params: 0\n",
      "=================================================================\n",
      "=================================================================\n",
      "Layer (type:depth-idx)                   Param #\n",
      "=================================================================\n",
      "├─BatchNorm2d: 1-1                       2\n",
      "├─Conv2d: 1-2                            320\n",
      "├─Conv2d: 1-3                            9,248\n",
      "├─Conv2d: 1-4                            18,496\n",
      "├─Conv2d: 1-5                            36,928\n",
      "├─Conv2d: 1-6                            73,856\n",
      "├─Conv2d: 1-7                            147,584\n",
      "├─MaxPool2d: 1-8                         --\n",
      "├─Linear: 1-9                            2,359,808\n",
      "├─Linear: 1-10                           131,328\n",
      "├─Linear: 1-11                           16,448\n",
      "├─Linear: 1-12                           65\n",
      "├─Dropout: 1-13                          --\n",
      "├─BatchNorm1d: 1-14                      1,024\n",
      "├─BatchNorm1d: 1-15                      512\n",
      "├─BatchNorm1d: 1-16                      128\n",
      "=================================================================\n",
      "Total params: 2,795,747\n",
      "Trainable params: 2,795,747\n",
      "Non-trainable params: 0\n",
      "=================================================================\n"
     ]
    }
   ],
   "source": [
    "print(summary(model, input_size=(1, IMAGE_HEIGHT, IMAGE_WIDTH)))"
   ]
  },
  {
   "cell_type": "code",
   "execution_count": 19,
   "id": "d0d57f18-148d-4e19-89fd-5afa67405429",
   "metadata": {},
   "outputs": [],
   "source": [
    "epochs = 10\n",
    "lr = 0.001\n",
    "\n",
    "criterion = nn.MSELoss()\n",
    "optimizer = optim.Adam(model.parameters(), lr=lr)"
   ]
  },
  {
   "cell_type": "markdown",
   "id": "91eea54d-a015-4930-85b0-f66409008cce",
   "metadata": {},
   "source": [
    "For EWC: we keep a copy of the model's parameters"
   ]
  },
  {
   "cell_type": "code",
   "execution_count": 20,
   "id": "b7f40d03-e7f6-4869-8a19-62349ff7b263",
   "metadata": {},
   "outputs": [],
   "source": [
    "prior_model = CNNModel(IMAGE_HEIGHT, IMAGE_WIDTH)\n",
    "prior_model.load_state_dict(model.state_dict())\n",
    "\n",
    "prior_model = prior_model.to(device)\n",
    "if device == 'cuda':\n",
    "  prior_model = torch.nn.DataParallel(prior_model)\n",
    "  cudnn.benchmark = True"
   ]
  },
  {
   "cell_type": "code",
   "execution_count": 21,
   "id": "d24a1b9c-09ff-4e0b-a548-8c14e178eb30",
   "metadata": {},
   "outputs": [],
   "source": [
    "# EWC hyperparameter\n",
    "lambda_ewc = 0.01"
   ]
  },
  {
   "cell_type": "markdown",
   "id": "dd6b9ec3-9030-48f8-9ab3-fc878af6250a",
   "metadata": {},
   "source": [
    "## Model Training"
   ]
  },
  {
   "cell_type": "code",
   "execution_count": 22,
   "id": "a699c8c6-b01e-48bb-9901-1e33eb278542",
   "metadata": {},
   "outputs": [],
   "source": [
    "# Training Helper Function to Format Time\n",
    "def format_time(seconds):\n",
    "  days = int(seconds / 3600/24)\n",
    "  seconds = seconds - days*3600*24\n",
    "  hours = int(seconds / 3600)\n",
    "  seconds = seconds - hours*3600\n",
    "  minutes = int(seconds / 60)\n",
    "  seconds = seconds - minutes*60\n",
    "  secondsf = int(seconds)\n",
    "  seconds = seconds - secondsf\n",
    "  millis = int(seconds*1000)\n",
    "\n",
    "  f = ''\n",
    "  i = 1\n",
    "  if days > 0:\n",
    "    f += str(days) + 'D'\n",
    "    i += 1\n",
    "  if hours > 0 and i <= 2:\n",
    "    f += str(hours) + 'h'\n",
    "    i += 1\n",
    "  if minutes > 0 and i <= 2:\n",
    "    f += str(minutes) + 'm'\n",
    "    i += 1\n",
    "  if secondsf > 0 and i <= 2:\n",
    "    f += str(secondsf) + 's'\n",
    "    i += 1\n",
    "  if millis > 0 and i <= 2:\n",
    "    f += str(millis) + 'ms'\n",
    "    i += 1\n",
    "  if f == '':\n",
    "    f = '0ms'\n",
    "  return f"
   ]
  },
  {
   "cell_type": "code",
   "execution_count": 23,
   "id": "fbd23df2-2b76-4012-8e6a-ccfc48094335",
   "metadata": {},
   "outputs": [],
   "source": [
    "# Number of past experiences to replay\n",
    "replay_size = 500  # You can adjust this value based on memory constraints"
   ]
  },
  {
   "cell_type": "code",
   "execution_count": 24,
   "id": "7a183f99-137f-4c78-a934-900d22ac637f",
   "metadata": {},
   "outputs": [],
   "source": [
    "# Initialize replay buffer\n",
    "replay_buffer = []"
   ]
  },
  {
   "cell_type": "code",
   "execution_count": 25,
   "id": "78645517-d0a0-4cea-ab6f-72d67093cca4",
   "metadata": {},
   "outputs": [],
   "source": [
    "# Function to add experiences to replay buffer\n",
    "def add_to_replay_buffer(inputs, labels):\n",
    "    replay_buffer.extend(list(zip(inputs.cpu().numpy(), labels.cpu().numpy())))\n",
    "    while len(replay_buffer) > replay_size:\n",
    "        replay_buffer.pop(0)"
   ]
  },
  {
   "cell_type": "code",
   "execution_count": 26,
   "id": "03ceee02-56e0-4143-b99c-62ad5d0f049e",
   "metadata": {},
   "outputs": [
    {
     "name": "stdout",
     "output_type": "stream",
     "text": [
      "Training for Context 1\n",
      "Epoch [1/10] | Train Loss: 0.0790\n",
      "Time Taken : 12s378ms\n",
      "\n",
      "Epoch [2/10] | Train Loss: 0.0215\n",
      "Time Taken : 11s406ms\n",
      "\n",
      "Epoch [3/10] | Train Loss: 0.0210\n",
      "Time Taken : 11s412ms\n",
      "\n",
      "Epoch [4/10] | Train Loss: 0.0256\n",
      "Time Taken : 11s419ms\n",
      "\n",
      "Epoch [5/10] | Train Loss: 0.0221\n",
      "Time Taken : 11s406ms\n",
      "\n",
      "Epoch [6/10] | Train Loss: 0.0213\n",
      "Time Taken : 11s412ms\n",
      "\n",
      "Epoch [7/10] | Train Loss: 0.0217\n",
      "Time Taken : 11s414ms\n",
      "\n",
      "Epoch [8/10] | Train Loss: 0.0206\n",
      "Time Taken : 11s419ms\n",
      "\n",
      "Epoch [9/10] | Train Loss: 0.0208\n",
      "Time Taken : 11s417ms\n",
      "\n",
      "Epoch [10/10] | Train Loss: 0.0220\n",
      "Time Taken : 11s418ms\n",
      "\n",
      "---\n",
      "\n",
      "Training for Context 2\n",
      "Epoch [1/10] | Train Loss: 0.0481\n",
      "Time Taken : 1s440ms\n",
      "\n",
      "Epoch [2/10] | Train Loss: 0.0240\n",
      "Time Taken : 1s425ms\n",
      "\n",
      "Epoch [3/10] | Train Loss: 0.0230\n",
      "Time Taken : 1s425ms\n",
      "\n",
      "Epoch [4/10] | Train Loss: 0.0237\n",
      "Time Taken : 1s426ms\n",
      "\n",
      "Epoch [5/10] | Train Loss: 0.0227\n",
      "Time Taken : 1s426ms\n",
      "\n",
      "Epoch [6/10] | Train Loss: 0.0246\n",
      "Time Taken : 1s426ms\n",
      "\n",
      "Epoch [7/10] | Train Loss: 0.0209\n",
      "Time Taken : 1s425ms\n",
      "\n",
      "Epoch [8/10] | Train Loss: 0.0230\n",
      "Time Taken : 1s424ms\n",
      "\n",
      "Epoch [9/10] | Train Loss: 0.0218\n",
      "Time Taken : 1s423ms\n",
      "\n",
      "Epoch [10/10] | Train Loss: 0.0211\n",
      "Time Taken : 1s425ms\n",
      "\n",
      "---\n",
      "\n",
      "Training for Context 3\n",
      "Epoch [1/10] | Train Loss: 0.1435\n",
      "Time Taken : 1s429ms\n",
      "\n",
      "Epoch [2/10] | Train Loss: 0.0424\n",
      "Time Taken : 1s422ms\n",
      "\n",
      "Epoch [3/10] | Train Loss: 0.0398\n",
      "Time Taken : 1s423ms\n",
      "\n",
      "Epoch [4/10] | Train Loss: 0.0383\n",
      "Time Taken : 1s424ms\n",
      "\n",
      "Epoch [5/10] | Train Loss: 0.0430\n",
      "Time Taken : 1s425ms\n",
      "\n",
      "Epoch [6/10] | Train Loss: 0.0373\n",
      "Time Taken : 1s426ms\n",
      "\n",
      "Epoch [7/10] | Train Loss: 0.0343\n",
      "Time Taken : 1s426ms\n",
      "\n",
      "Epoch [8/10] | Train Loss: 0.0364\n",
      "Time Taken : 1s426ms\n",
      "\n",
      "Epoch [9/10] | Train Loss: 0.0311\n",
      "Time Taken : 1s427ms\n",
      "\n",
      "Epoch [10/10] | Train Loss: 0.0281\n",
      "Time Taken : 1s426ms\n",
      "\n",
      "---\n",
      "\n",
      "Training for Context 4\n",
      "Epoch [1/10] | Train Loss: 0.2914\n",
      "Time Taken : 333ms\n",
      "\n",
      "Epoch [2/10] | Train Loss: 0.1880\n",
      "Time Taken : 320ms\n",
      "\n",
      "Epoch [3/10] | Train Loss: 0.1123\n",
      "Time Taken : 320ms\n",
      "\n",
      "Epoch [4/10] | Train Loss: 0.0973\n",
      "Time Taken : 320ms\n",
      "\n",
      "Epoch [5/10] | Train Loss: 0.0966\n",
      "Time Taken : 320ms\n",
      "\n",
      "Epoch [6/10] | Train Loss: 0.1063\n",
      "Time Taken : 320ms\n",
      "\n",
      "Epoch [7/10] | Train Loss: 0.1059\n",
      "Time Taken : 320ms\n",
      "\n",
      "Epoch [8/10] | Train Loss: 0.1040\n",
      "Time Taken : 320ms\n",
      "\n",
      "Epoch [9/10] | Train Loss: 0.0878\n",
      "Time Taken : 320ms\n",
      "\n",
      "Epoch [10/10] | Train Loss: 0.0834\n",
      "Time Taken : 320ms\n",
      "\n",
      "---\n",
      "\n",
      "Training for Context 5\n",
      "Epoch [1/10] | Train Loss: 0.2569\n",
      "Time Taken : 340ms\n",
      "\n",
      "Epoch [2/10] | Train Loss: 0.1606\n",
      "Time Taken : 322ms\n",
      "\n",
      "Epoch [3/10] | Train Loss: 0.1072\n",
      "Time Taken : 322ms\n",
      "\n",
      "Epoch [4/10] | Train Loss: 0.0860\n",
      "Time Taken : 322ms\n",
      "\n",
      "Epoch [5/10] | Train Loss: 0.0724\n",
      "Time Taken : 322ms\n",
      "\n",
      "Epoch [6/10] | Train Loss: 0.0758\n",
      "Time Taken : 322ms\n",
      "\n",
      "Epoch [7/10] | Train Loss: 0.0777\n",
      "Time Taken : 322ms\n",
      "\n",
      "Epoch [8/10] | Train Loss: 0.0789\n",
      "Time Taken : 322ms\n",
      "\n",
      "Epoch [9/10] | Train Loss: 0.0728\n",
      "Time Taken : 322ms\n",
      "\n",
      "Epoch [10/10] | Train Loss: 0.0650\n",
      "Time Taken : 322ms\n",
      "\n",
      "---\n",
      "\n"
     ]
    }
   ],
   "source": [
    "# Train the model for each context\n",
    "train_losses_per_context = []\n",
    "\n",
    "for context_idx, idxs in enumerate(train_contexts):\n",
    "    print(f\"Training for Context {context_idx + 1}\")\n",
    "    \n",
    "    # Create a dataset for the current context\n",
    "    x_train_context = x_train_tensor[idxs].to(device)\n",
    "    y_train_context = y_train_tensor[idxs].to(device)\n",
    "    \n",
    "    # Check if replay buffer is not empty and add it to the dataset\n",
    "    if replay_buffer:\n",
    "        replay_inputs, replay_labels = map(np.array, zip(*replay_buffer))\n",
    "        replay_inputs = torch.tensor(replay_inputs, device=device, dtype=torch.float32)\n",
    "        replay_labels = torch.tensor(replay_labels, device=device, dtype=torch.float32)\n",
    "        \n",
    "        x_train_context = torch.cat([x_train_context, replay_inputs], dim=0)\n",
    "        y_train_context = torch.cat([y_train_context, replay_labels], dim=0)\n",
    "    \n",
    "    context_dataset = TensorDataset(x_train_context, y_train_context)\n",
    "    context_loader = DataLoader(context_dataset, batch_size=64, shuffle=True)\n",
    "\n",
    "    train_losses = []\n",
    "    \n",
    "    # Train the model\n",
    "    for epoch in range(epochs):\n",
    "        start_time = time.time()\n",
    "        \n",
    "        train_running_loss = 0.0\n",
    "\n",
    "        model.train()\n",
    "        \n",
    "        for inputs, labels in context_loader:\n",
    "            inputs, labels = inputs.to(device), labels.to(device)\n",
    "            optimizer.zero_grad()\n",
    "            outputs = model(inputs)\n",
    "            loss = criterion(outputs, labels)\n",
    "            \n",
    "            # EWC loss\n",
    "            ewc_loss = 0\n",
    "            for name, param in model.named_parameters():\n",
    "                if name in prior_model.state_dict():\n",
    "                    ewc_loss += torch.norm(param - prior_model.state_dict()[name]) ** 2\n",
    "            loss += lambda_ewc * ewc_loss\n",
    "            \n",
    "            loss.backward()\n",
    "            optimizer.step()\n",
    "            train_running_loss += loss.item() * inputs.size(0)\n",
    "        \n",
    "        train_epoch_loss = train_running_loss / len(context_loader.dataset)\n",
    "        train_losses.append(train_epoch_loss)\n",
    "\n",
    "        cur_time = time.time()\n",
    "        epoch_time = cur_time - start_time\n",
    "        \n",
    "        print(f'Epoch [{epoch+1}/{epochs}] | Train Loss: {train_epoch_loss:.4f}')\n",
    "        print(f'Time Taken : {format_time(epoch_time)}')\n",
    "        print('')\n",
    "\n",
    "    add_to_replay_buffer(x_train_context, y_train_context)\n",
    "\n",
    "    # Update the prior model with the current model's parameters after each context\n",
    "    prior_model.load_state_dict(model.state_dict())\n",
    "    \n",
    "    train_losses_per_context.append(train_losses)\n",
    "    \n",
    "    print('---')\n",
    "    print('')"
   ]
  },
  {
   "cell_type": "markdown",
   "id": "b31d99e0-72b4-41f7-9ce2-d99e7c14e0df",
   "metadata": {},
   "source": [
    "## Model Evaluation"
   ]
  },
  {
   "cell_type": "code",
   "execution_count": 27,
   "id": "b2dbc2ca-3197-43ca-9b16-93294741bf00",
   "metadata": {},
   "outputs": [
    {
     "name": "stdout",
     "output_type": "stream",
     "text": [
      "Evaluating on Test Dataset for Context 1\n",
      "Test Loss for Context 1 : 0.0142\n",
      "\n",
      "Evaluating on Test Dataset for Context 2\n",
      "Test Loss for Context 2 : 0.0614\n",
      "\n",
      "Evaluating on Test Dataset for Context 3\n",
      "Test Loss for Context 3 : 0.0158\n",
      "\n",
      "Evaluating on Test Dataset for Context 4\n",
      "Test Loss for Context 4 : 0.2732\n",
      "\n",
      "Evaluating on Test Dataset for Context 5\n",
      "Test Loss for Context 5 : 0.0949\n",
      "\n"
     ]
    }
   ],
   "source": [
    "# Evaluate the final trained model on the test subsets for each context\n",
    "test_losses_per_context = []\n",
    "\n",
    "for context_idx, idxs_test in enumerate(test_contexts):\n",
    "    print(f\"Evaluating on Test Dataset for Context {context_idx + 1}\")\n",
    "    \n",
    "    # Create a dataset and dataloader for the current context\n",
    "    x_test_context = x_test_tensor[idxs_test]\n",
    "    y_test_context = y_test_tensor[idxs_test]\n",
    "    \n",
    "    context_test_dataset = TensorDataset(x_test_context, y_test_context)\n",
    "    context_test_loader = DataLoader(context_test_dataset, batch_size=64, num_workers=3, pin_memory=True)\n",
    "    context_test_loader = DeviceDataLoader(context_test_loader, device)\n",
    "    \n",
    "    model.eval()\n",
    "    \n",
    "    test_running_loss = 0.0\n",
    "    \n",
    "    with torch.no_grad():\n",
    "        for inputs, labels in context_test_loader:\n",
    "            outputs = model(inputs)\n",
    "            loss = criterion(outputs, labels)\n",
    "            test_running_loss += loss.item() * inputs.size(0)\n",
    "    \n",
    "    test_context_loss = test_running_loss / len(context_test_loader.dataset)\n",
    "    test_losses_per_context.append(test_context_loss)\n",
    "    \n",
    "    print(f\"Test Loss for Context {context_idx + 1} : {test_context_loss:.4f}\")\n",
    "    print('')"
   ]
  },
  {
   "cell_type": "code",
   "execution_count": 28,
   "id": "6d6daa5f-12db-45da-bd6d-f427eb540245",
   "metadata": {},
   "outputs": [
    {
     "name": "stdout",
     "output_type": "stream",
     "text": [
      "Overall Test Loss: 0.0919\n"
     ]
    }
   ],
   "source": [
    "# Calculating Overall Test Loss\n",
    "overall_test_loss = sum(test_losses_per_context) / len(test_losses_per_context)\n",
    "print(f\"Overall Test Loss: {overall_test_loss:.4f}\")"
   ]
  },
  {
   "cell_type": "code",
   "execution_count": 29,
   "id": "3089ac1a-09be-42ed-b91e-ac2b4416f185",
   "metadata": {},
   "outputs": [
    {
     "data": {
      "text/plain": [
       "Text(0.5, 1.0, 'Loss vs. No. of Iterations')"
      ]
     },
     "execution_count": 29,
     "metadata": {},
     "output_type": "execute_result"
    },
    {
     "data": {
      "image/png": "[encoded data removed]",
      "text/plain": [
       "<Figure size 640x480 with 1 Axes>"
      ]
     },
     "metadata": {},
     "output_type": "display_data"
    }
   ],
   "source": [
    "train_losses_flatten = [j for sub in train_losses_per_context for j in sub]\n",
    "\n",
    "plt.plot(train_losses_flatten, label='Train Losses')\n",
    "for i in range(1, len(train_contexts) + 1):\n",
    "    plt.axvline(x=epochs*(i-1), color='r', label=f'Context {i}')\n",
    "plt.xlabel('Iterations')\n",
    "plt.ylabel('Loss')\n",
    "plt.legend()\n",
    "plt.grid(True)\n",
    "plt.title('Loss vs. No. of Iterations')"
   ]
  },
  {
   "cell_type": "code",
   "execution_count": 30,
   "id": "05447fbb-42b9-45f7-87a6-872e8bb5ab96",
   "metadata": {},
   "outputs": [
    {
     "data": {
      "text/plain": [
       "Text(0.5, 1.0, 'Test Loss vs. Contexts')"
      ]
     },
     "execution_count": 30,
     "metadata": {},
     "output_type": "execute_result"
    },
    {
     "data": {
      "image/png": "[encoded data removed]",
      "text/plain": [
       "<Figure size 1000x500 with 1 Axes>"
      ]
     },
     "metadata": {},
     "output_type": "display_data"
    }
   ],
   "source": [
    "context_list = [f'Context {i+1}' for i in range(len(test_contexts))]\n",
    "\n",
    "fig = plt.figure(figsize = (10, 5))\n",
    "plt.bar(context_list, test_losses_per_context, color ='maroon', width = 0.4)\n",
    "plt.xlabel(\"Context\")\n",
    "plt.ylabel(\"Test Loss\")\n",
    "plt.grid(True)\n",
    "plt.title(\"Test Loss vs. Contexts\")"
   ]
  },
  {
   "cell_type": "code",
   "execution_count": 31,
   "id": "f13e0d09-4420-46c0-9758-9578a8a7850c",
   "metadata": {},
   "outputs": [],
   "source": [
    "# Saving model state\n",
    "state = {\n",
    "        'model': model.state_dict(),\n",
    "        'train_losses_per_context': train_losses_per_context,\n",
    "        'test_losses_per_context': test_losses_per_context,\n",
    "        'epochs': epochs,\n",
    "        'lr': lr,\n",
    "    }\n",
    "\n",
    "torch.save(state, 'replay_per_epoch_with_ewc_approach.pth')"
   ]
  },
  {
   "cell_type": "code",
   "execution_count": null,
   "id": "3ade3d0d-11f4-446d-a940-fc5530be3d52",
   "metadata": {},
   "outputs": [],
   "source": []
  }
 ],
 "metadata": {
  "kernelspec": {
   "display_name": "Python 3 (ipykernel)",
   "language": "python",
   "name": "python3"
  },
  "language_info": {
   "codemirror_mode": {
    "name": "ipython",
    "version": 3
   },
   "file_extension": ".py",
   "mimetype": "text/x-python",
   "name": "python",
   "nbconvert_exporter": "python",
   "pygments_lexer": "ipython3",
   "version": "3.11.7"
  }
 },
 "nbformat": 4,
 "nbformat_minor": 5
}
